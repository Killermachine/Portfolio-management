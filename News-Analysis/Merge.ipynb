{
 "cells": [
  {
   "cell_type": "code",
   "execution_count": 1,
   "metadata": {},
   "outputs": [],
   "source": [
    "import re\n",
    "import multiprocessing\n",
    "from tqdm import tqdm\n",
    "\n",
    "import pandas as pd\n",
    "from wordcloud import WordCloud, STOPWORDS\n",
    "from scipy.stats import norm\n",
    "from gensim.models import word2vec\n",
    "# from kaggle.competitions import twosigmanews\n",
    "\n",
    "from sklearn.manifold import TSNE\n",
    "import matplotlib.pyplot as plt\n",
    "import seaborn as sns\n",
    "\n",
    "import bokeh.plotting as bp\n",
    "from bokeh.models import HoverTool, BoxSelectTool\n",
    "from bokeh.plotting import figure, show, output_notebook\n",
    "\n",
    "from nltk.tokenize import TweetTokenizer # a tweet tokenizer from nltk.\n",
    "from nltk.corpus import stopwords\n",
    "from nltk.stem import WordNetLemmatizer\n",
    "from nltk.stem import PorterStemmer\n",
    "\n",
    "import numpy as np\n",
    "\n",
    "%matplotlib inline"
   ]
  },
  {
   "cell_type": "code",
   "execution_count": 2,
   "metadata": {},
   "outputs": [
    {
     "name": "stdout",
     "output_type": "stream",
     "text": [
      "Number of CPUs: 55\n"
     ]
    }
   ],
   "source": [
    "cpu_count = 2*multiprocessing.cpu_count()-1\n",
    "print('Number of CPUs: {}'.format(cpu_count))"
   ]
  },
  {
   "cell_type": "code",
   "execution_count": 4,
   "metadata": {},
   "outputs": [],
   "source": [
    "# news_df = pd.read_csv(\"news_train_df.csv\")\n",
    "news_df = pd.read_csv(\"news_test_pred_df.csv\")"
   ]
  },
  {
   "cell_type": "code",
   "execution_count": 5,
   "metadata": {},
   "outputs": [],
   "source": [
    "america_df = pd.read_csv(\"America.csv\")"
   ]
  },
  {
   "cell_type": "code",
   "execution_count": 6,
   "metadata": {},
   "outputs": [],
   "source": [
    "america_df[\"time\"] = pd.to_datetime(america_df[\"time\"])\n",
    "news_df[\"time\"] = pd.to_datetime(pd.to_datetime(news_df['time']).dt.date)"
   ]
  },
  {
   "cell_type": "code",
   "execution_count": 7,
   "metadata": {},
   "outputs": [
    {
     "data": {
      "text/html": [
       "<div>\n",
       "<style scoped>\n",
       "    .dataframe tbody tr th:only-of-type {\n",
       "        vertical-align: middle;\n",
       "    }\n",
       "\n",
       "    .dataframe tbody tr th {\n",
       "        vertical-align: top;\n",
       "    }\n",
       "\n",
       "    .dataframe thead th {\n",
       "        text-align: right;\n",
       "    }\n",
       "</style>\n",
       "<table border=\"1\" class=\"dataframe\">\n",
       "  <thead>\n",
       "    <tr style=\"text-align: right;\">\n",
       "      <th></th>\n",
       "      <th>time</th>\n",
       "      <th>close</th>\n",
       "      <th>open</th>\n",
       "      <th>high</th>\n",
       "      <th>low</th>\n",
       "      <th>volume</th>\n",
       "      <th>percent</th>\n",
       "      <th>code</th>\n",
       "    </tr>\n",
       "  </thead>\n",
       "  <tbody>\n",
       "    <tr>\n",
       "      <th>0</th>\n",
       "      <td>2015-01-05</td>\n",
       "      <td>106.25</td>\n",
       "      <td>108.29</td>\n",
       "      <td>108.65</td>\n",
       "      <td>105.41</td>\n",
       "      <td>64.29M</td>\n",
       "      <td>-2.82%</td>\n",
       "      <td>AAPL</td>\n",
       "    </tr>\n",
       "    <tr>\n",
       "      <th>1</th>\n",
       "      <td>2015-01-06</td>\n",
       "      <td>106.26</td>\n",
       "      <td>106.54</td>\n",
       "      <td>107.43</td>\n",
       "      <td>104.63</td>\n",
       "      <td>65.80M</td>\n",
       "      <td>0.01%</td>\n",
       "      <td>AAPL</td>\n",
       "    </tr>\n",
       "    <tr>\n",
       "      <th>2</th>\n",
       "      <td>2015-01-07</td>\n",
       "      <td>107.75</td>\n",
       "      <td>107.20</td>\n",
       "      <td>108.20</td>\n",
       "      <td>106.69</td>\n",
       "      <td>40.11M</td>\n",
       "      <td>1.40%</td>\n",
       "      <td>AAPL</td>\n",
       "    </tr>\n",
       "    <tr>\n",
       "      <th>3</th>\n",
       "      <td>2015-01-08</td>\n",
       "      <td>111.89</td>\n",
       "      <td>109.23</td>\n",
       "      <td>112.15</td>\n",
       "      <td>108.70</td>\n",
       "      <td>59.36M</td>\n",
       "      <td>3.84%</td>\n",
       "      <td>AAPL</td>\n",
       "    </tr>\n",
       "    <tr>\n",
       "      <th>4</th>\n",
       "      <td>2015-01-09</td>\n",
       "      <td>112.01</td>\n",
       "      <td>112.67</td>\n",
       "      <td>113.25</td>\n",
       "      <td>110.21</td>\n",
       "      <td>53.70M</td>\n",
       "      <td>0.11%</td>\n",
       "      <td>AAPL</td>\n",
       "    </tr>\n",
       "  </tbody>\n",
       "</table>\n",
       "</div>"
      ],
      "text/plain": [
       "        time   close    open    high     low  volume percent  code\n",
       "0 2015-01-05  106.25  108.29  108.65  105.41  64.29M  -2.82%  AAPL\n",
       "1 2015-01-06  106.26  106.54  107.43  104.63  65.80M   0.01%  AAPL\n",
       "2 2015-01-07  107.75  107.20  108.20  106.69  40.11M   1.40%  AAPL\n",
       "3 2015-01-08  111.89  109.23  112.15  108.70  59.36M   3.84%  AAPL\n",
       "4 2015-01-09  112.01  112.67  113.25  110.21  53.70M   0.11%  AAPL"
      ]
     },
     "execution_count": 7,
     "metadata": {},
     "output_type": "execute_result"
    }
   ],
   "source": [
    "america_df.head()"
   ]
  },
  {
   "cell_type": "code",
   "execution_count": 8,
   "metadata": {},
   "outputs": [
    {
     "data": {
      "text/plain": [
       "array(['AAPL', 'V', 'BABA', 'ADBE', 'SNE'], dtype=object)"
      ]
     },
     "execution_count": 8,
     "metadata": {},
     "output_type": "execute_result"
    }
   ],
   "source": [
    "america_df['code'].unique()"
   ]
  },
  {
   "cell_type": "code",
   "execution_count": 9,
   "metadata": {},
   "outputs": [],
   "source": [
    "news_df = news_df[['assetCodes', \n",
    "                    'assetName', \n",
    "                    'sentimentClass', \n",
    "                    'time',\n",
    "                    'sentimentNegative',\n",
    "                    'sentimentNeutral',\n",
    "                    'sentimentPositive']]"
   ]
  },
  {
   "cell_type": "code",
   "execution_count": 10,
   "metadata": {},
   "outputs": [],
   "source": [
    "news_df['sentimentRange'] = np.where(\n",
    "    news_df['sentimentNeutral'] > abs(\n",
    "        news_df['sentimentPositive']-news_df['sentimentNegative']),\n",
    "    0,\n",
    "    news_df['sentimentPositive']-news_df['sentimentNegative']\n",
    ")"
   ]
  },
  {
   "cell_type": "code",
   "execution_count": 11,
   "metadata": {},
   "outputs": [],
   "source": [
    "news_test_df = news_df[ (news_df['time']>='2015-01-01')]\n",
    "news_train_df = news_df[ (news_df['time']<'2015-01-01')]"
   ]
  },
  {
   "cell_type": "code",
   "execution_count": 12,
   "metadata": {},
   "outputs": [],
   "source": [
    "# news_test_df['time'] = pd.to_datetime(news_test_df['time'].dt.date)"
   ]
  },
  {
   "cell_type": "code",
   "execution_count": 18,
   "metadata": {},
   "outputs": [],
   "source": [
    "news_test_df['assetCodes'] = news_test_df['assetCodes'].map(flattenAssetCodes)"
   ]
  },
  {
   "cell_type": "code",
   "execution_count": 19,
   "metadata": {},
   "outputs": [
    {
     "data": {
      "text/html": [
       "<div>\n",
       "<style scoped>\n",
       "    .dataframe tbody tr th:only-of-type {\n",
       "        vertical-align: middle;\n",
       "    }\n",
       "\n",
       "    .dataframe tbody tr th {\n",
       "        vertical-align: top;\n",
       "    }\n",
       "\n",
       "    .dataframe thead th {\n",
       "        text-align: right;\n",
       "    }\n",
       "</style>\n",
       "<table border=\"1\" class=\"dataframe\">\n",
       "  <thead>\n",
       "    <tr style=\"text-align: right;\">\n",
       "      <th></th>\n",
       "      <th>Unnamed: 0</th>\n",
       "      <th>assetCodes</th>\n",
       "      <th>assetName</th>\n",
       "      <th>pred</th>\n",
       "      <th>headline</th>\n",
       "      <th>time</th>\n",
       "      <th>sentimentNegative</th>\n",
       "      <th>sentimentNeutral</th>\n",
       "      <th>sentimentPositive</th>\n",
       "    </tr>\n",
       "  </thead>\n",
       "  <tbody>\n",
       "    <tr>\n",
       "      <th>0</th>\n",
       "      <td>7274526</td>\n",
       "      <td>{LONG}</td>\n",
       "      <td>eLong Inc</td>\n",
       "      <td>-1</td>\n",
       "      <td>Beijing Court Rules in Favor of eLong in Dispu...</td>\n",
       "      <td>2015-01-01</td>\n",
       "      <td>0.809405</td>\n",
       "      <td>0.129914</td>\n",
       "      <td>0.060681</td>\n",
       "    </tr>\n",
       "    <tr>\n",
       "      <th>1</th>\n",
       "      <td>7274527</td>\n",
       "      <td>{EXPE}</td>\n",
       "      <td>Expedia Inc</td>\n",
       "      <td>-1</td>\n",
       "      <td>Beijing Court Rules in Favor of eLong in Dispu...</td>\n",
       "      <td>2015-01-01</td>\n",
       "      <td>0.819121</td>\n",
       "      <td>0.125242</td>\n",
       "      <td>0.055638</td>\n",
       "    </tr>\n",
       "    <tr>\n",
       "      <th>2</th>\n",
       "      <td>7274528</td>\n",
       "      <td>{SYX}</td>\n",
       "      <td>Systemax Inc</td>\n",
       "      <td>1</td>\n",
       "      <td>SYSTEMAX'S GLOBAL INDUSTRIAL BUSINESS SIGNS DE...</td>\n",
       "      <td>2015-01-01</td>\n",
       "      <td>0.034652</td>\n",
       "      <td>0.122020</td>\n",
       "      <td>0.843328</td>\n",
       "    </tr>\n",
       "    <tr>\n",
       "      <th>3</th>\n",
       "      <td>7274529</td>\n",
       "      <td>{SYX}</td>\n",
       "      <td>Systemax Inc</td>\n",
       "      <td>1</td>\n",
       "      <td>Systemax's Global Industrial Business Signs De...</td>\n",
       "      <td>2015-01-01</td>\n",
       "      <td>0.097430</td>\n",
       "      <td>0.156117</td>\n",
       "      <td>0.746453</td>\n",
       "    </tr>\n",
       "    <tr>\n",
       "      <th>4</th>\n",
       "      <td>7274530</td>\n",
       "      <td>{BRO}</td>\n",
       "      <td>Brown &amp; Brown Inc</td>\n",
       "      <td>1</td>\n",
       "      <td>Brown &amp; Brown, Inc. Announces Sale of Certain ...</td>\n",
       "      <td>2015-01-01</td>\n",
       "      <td>0.552344</td>\n",
       "      <td>0.248000</td>\n",
       "      <td>0.199656</td>\n",
       "    </tr>\n",
       "  </tbody>\n",
       "</table>\n",
       "</div>"
      ],
      "text/plain": [
       "   Unnamed: 0 assetCodes          assetName  pred  \\\n",
       "0     7274526     {LONG}          eLong Inc    -1   \n",
       "1     7274527     {EXPE}        Expedia Inc    -1   \n",
       "2     7274528      {SYX}       Systemax Inc     1   \n",
       "3     7274529      {SYX}       Systemax Inc     1   \n",
       "4     7274530      {BRO}  Brown & Brown Inc     1   \n",
       "\n",
       "                                            headline       time  \\\n",
       "0  Beijing Court Rules in Favor of eLong in Dispu... 2015-01-01   \n",
       "1  Beijing Court Rules in Favor of eLong in Dispu... 2015-01-01   \n",
       "2  SYSTEMAX'S GLOBAL INDUSTRIAL BUSINESS SIGNS DE... 2015-01-01   \n",
       "3  Systemax's Global Industrial Business Signs De... 2015-01-01   \n",
       "4  Brown & Brown, Inc. Announces Sale of Certain ... 2015-01-01   \n",
       "\n",
       "   sentimentNegative  sentimentNeutral  sentimentPositive  \n",
       "0           0.809405          0.129914           0.060681  \n",
       "1           0.819121          0.125242           0.055638  \n",
       "2           0.034652          0.122020           0.843328  \n",
       "3           0.097430          0.156117           0.746453  \n",
       "4           0.552344          0.248000           0.199656  "
      ]
     },
     "execution_count": 19,
     "metadata": {},
     "output_type": "execute_result"
    }
   ],
   "source": [
    "# news_test_df = news_df\n",
    "news_test_df.head()"
   ]
  },
  {
   "cell_type": "code",
   "execution_count": 20,
   "metadata": {},
   "outputs": [],
   "source": [
    "america_df[\"sentimentRange\"] = 0.0"
   ]
  },
  {
   "cell_type": "code",
   "execution_count": 21,
   "metadata": {},
   "outputs": [
    {
     "name": "stdout",
     "output_type": "stream",
     "text": [
      "100/3772\n",
      "200/3772\n",
      "300/3772\n",
      "400/3772\n",
      "500/3772\n",
      "600/3772\n",
      "700/3772\n",
      "800/3772\n",
      "900/3772\n",
      "1000/3772\n",
      "1100/3772\n",
      "1200/3772\n",
      "1300/3772\n",
      "1400/3772\n",
      "1500/3772\n",
      "1600/3772\n",
      "1700/3772\n",
      "1800/3772\n",
      "1900/3772\n",
      "2000/3772\n",
      "2100/3772\n",
      "2200/3772\n",
      "2300/3772\n",
      "2400/3772\n",
      "2500/3772\n",
      "2600/3772\n",
      "2700/3772\n",
      "2800/3772\n",
      "2900/3772\n",
      "3000/3772\n",
      "3100/3772\n",
      "3200/3772\n",
      "3300/3772\n",
      "3400/3772\n",
      "3500/3772\n",
      "3600/3772\n",
      "3700/3772\n"
     ]
    }
   ],
   "source": [
    "for index1, row1 in america_df.iterrows():\n",
    "    tmp = []\n",
    "    for index2, row2 in news_test_df[(news_test_df['time']==row1['time'])].iterrows():\n",
    "        if row1['code'] in row2['assetCodes']:\n",
    "#             if np.isnan(row1['sentimentRange']):\n",
    "#                 row1['sentimentRange'] = 0\n",
    "            tmp.append(row2['pred'])\n",
    "    if len(tmp) > 0:\n",
    "#         print(np.mean(tmp))  \n",
    "        america_df.at[index1,'sentimentRange'] = np.mean(tmp)\n",
    "#     break\n",
    "    if index1 > 0 and index1 % 100 == 0:\n",
    "        print(\"%d/%d\"%(index1, len(america_df)))"
   ]
  },
  {
   "cell_type": "code",
   "execution_count": null,
   "metadata": {},
   "outputs": [],
   "source": [
    "# for index1, row1 in america_df.iterrows():\n",
    "#     tmp = []\n",
    "#     for index2, row2 in news_test_df[(news_test_df['time']==row1['time'])].iterrows():\n",
    "#         if row1['code'] in row2['assetCodes']:\n",
    "# #             if np.isnan(row1['sentimentRange']):\n",
    "# #                 row1['sentimentRange'] = 0\n",
    "#             tmp.append(row2['sentimentRange'])\n",
    "#     if len(tmp) > 0:\n",
    "# #         print(np.mean(tmp))  \n",
    "#         america_df.at[index1,'sentimentRange'] = np.mean(tmp)\n",
    "# #     break\n",
    "#     if index1 > 0 and index1 % 100 == 0:\n",
    "#         print(\"%d/%d\"%(index1, len(america_df)))"
   ]
  },
  {
   "cell_type": "code",
   "execution_count": 44,
   "metadata": {},
   "outputs": [],
   "source": [
    "# america_df = america_df.fillna(0)"
   ]
  },
  {
   "cell_type": "code",
   "execution_count": 22,
   "metadata": {},
   "outputs": [
    {
     "data": {
      "text/html": [
       "<div>\n",
       "<style scoped>\n",
       "    .dataframe tbody tr th:only-of-type {\n",
       "        vertical-align: middle;\n",
       "    }\n",
       "\n",
       "    .dataframe tbody tr th {\n",
       "        vertical-align: top;\n",
       "    }\n",
       "\n",
       "    .dataframe thead th {\n",
       "        text-align: right;\n",
       "    }\n",
       "</style>\n",
       "<table border=\"1\" class=\"dataframe\">\n",
       "  <thead>\n",
       "    <tr style=\"text-align: right;\">\n",
       "      <th></th>\n",
       "      <th>time</th>\n",
       "      <th>close</th>\n",
       "      <th>open</th>\n",
       "      <th>high</th>\n",
       "      <th>low</th>\n",
       "      <th>volume</th>\n",
       "      <th>percent</th>\n",
       "      <th>code</th>\n",
       "      <th>sentimentRange</th>\n",
       "    </tr>\n",
       "  </thead>\n",
       "  <tbody>\n",
       "    <tr>\n",
       "      <th>0</th>\n",
       "      <td>2015-01-05</td>\n",
       "      <td>106.25</td>\n",
       "      <td>108.29</td>\n",
       "      <td>108.65</td>\n",
       "      <td>105.41</td>\n",
       "      <td>64.29M</td>\n",
       "      <td>-2.82%</td>\n",
       "      <td>AAPL</td>\n",
       "      <td>0.200000</td>\n",
       "    </tr>\n",
       "    <tr>\n",
       "      <th>1</th>\n",
       "      <td>2015-01-06</td>\n",
       "      <td>106.26</td>\n",
       "      <td>106.54</td>\n",
       "      <td>107.43</td>\n",
       "      <td>104.63</td>\n",
       "      <td>65.80M</td>\n",
       "      <td>0.01%</td>\n",
       "      <td>AAPL</td>\n",
       "      <td>0.428571</td>\n",
       "    </tr>\n",
       "    <tr>\n",
       "      <th>2</th>\n",
       "      <td>2015-01-07</td>\n",
       "      <td>107.75</td>\n",
       "      <td>107.20</td>\n",
       "      <td>108.20</td>\n",
       "      <td>106.69</td>\n",
       "      <td>40.11M</td>\n",
       "      <td>1.40%</td>\n",
       "      <td>AAPL</td>\n",
       "      <td>-0.818182</td>\n",
       "    </tr>\n",
       "    <tr>\n",
       "      <th>3</th>\n",
       "      <td>2015-01-08</td>\n",
       "      <td>111.89</td>\n",
       "      <td>109.23</td>\n",
       "      <td>112.15</td>\n",
       "      <td>108.70</td>\n",
       "      <td>59.36M</td>\n",
       "      <td>3.84%</td>\n",
       "      <td>AAPL</td>\n",
       "      <td>-0.307692</td>\n",
       "    </tr>\n",
       "    <tr>\n",
       "      <th>4</th>\n",
       "      <td>2015-01-09</td>\n",
       "      <td>112.01</td>\n",
       "      <td>112.67</td>\n",
       "      <td>113.25</td>\n",
       "      <td>110.21</td>\n",
       "      <td>53.70M</td>\n",
       "      <td>0.11%</td>\n",
       "      <td>AAPL</td>\n",
       "      <td>-1.000000</td>\n",
       "    </tr>\n",
       "  </tbody>\n",
       "</table>\n",
       "</div>"
      ],
      "text/plain": [
       "        time   close    open    high     low  volume percent  code  \\\n",
       "0 2015-01-05  106.25  108.29  108.65  105.41  64.29M  -2.82%  AAPL   \n",
       "1 2015-01-06  106.26  106.54  107.43  104.63  65.80M   0.01%  AAPL   \n",
       "2 2015-01-07  107.75  107.20  108.20  106.69  40.11M   1.40%  AAPL   \n",
       "3 2015-01-08  111.89  109.23  112.15  108.70  59.36M   3.84%  AAPL   \n",
       "4 2015-01-09  112.01  112.67  113.25  110.21  53.70M   0.11%  AAPL   \n",
       "\n",
       "   sentimentRange  \n",
       "0        0.200000  \n",
       "1        0.428571  \n",
       "2       -0.818182  \n",
       "3       -0.307692  \n",
       "4       -1.000000  "
      ]
     },
     "execution_count": 22,
     "metadata": {},
     "output_type": "execute_result"
    }
   ],
   "source": [
    "america_df.head()"
   ]
  },
  {
   "cell_type": "code",
   "execution_count": 23,
   "metadata": {},
   "outputs": [],
   "source": [
    "america_df.to_csv(\"AmericaWithNewsPred.csv\")"
   ]
  },
  {
   "cell_type": "code",
   "execution_count": 17,
   "metadata": {},
   "outputs": [],
   "source": [
    "import ast\n",
    "def flattenAssetCodes(codes):\n",
    "    lst = ast.literal_eval(codes)\n",
    "    def get1st(code):\n",
    "        return code.split('.')[0]\n",
    "    return set(map(get1st, lst))"
   ]
  },
  {
   "cell_type": "code",
   "execution_count": 70,
   "metadata": {},
   "outputs": [
    {
     "data": {
      "text/plain": [
       "{'AAPL', 'KK', 'LONG'}"
      ]
     },
     "execution_count": 70,
     "metadata": {},
     "output_type": "execute_result"
    }
   ],
   "source": [
    "strtst = \"{'LONG.L', 'LONG.O', 'AAPL', 'KK.O'}\"\n",
    "flattenAssetCodes(strtst)"
   ]
  },
  {
   "cell_type": "code",
   "execution_count": 63,
   "metadata": {},
   "outputs": [
    {
     "data": {
      "text/plain": [
       "-0.7635145000000001"
      ]
     },
     "execution_count": 63,
     "metadata": {},
     "output_type": "execute_result"
    }
   ],
   "source": [
    "min(america_df['sentimentRange'])"
   ]
  },
  {
   "cell_type": "code",
   "execution_count": null,
   "metadata": {},
   "outputs": [],
   "source": []
  }
 ],
 "metadata": {
  "kernelspec": {
   "display_name": "Python 3",
   "language": "python",
   "name": "python3"
  },
  "language_info": {
   "codemirror_mode": {
    "name": "ipython",
    "version": 3
   },
   "file_extension": ".py",
   "mimetype": "text/x-python",
   "name": "python",
   "nbconvert_exporter": "python",
   "pygments_lexer": "ipython3",
   "version": "3.6.6"
  }
 },
 "nbformat": 4,
 "nbformat_minor": 2
}
