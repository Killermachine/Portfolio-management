{
 "cells": [
  {
   "cell_type": "code",
   "execution_count": 1,
   "metadata": {
    "_cell_guid": "b1076dfc-b9ad-4769-8c92-a6c4dae69d19",
    "_uuid": "8f2839f25d086af736a60e9eeb907d3b93b6e0e5"
   },
   "outputs": [],
   "source": [
    "import re\n",
    "import multiprocessing\n",
    "from tqdm import tqdm\n",
    "\n",
    "import pandas as pd\n",
    "from wordcloud import WordCloud, STOPWORDS\n",
    "from scipy.stats import norm\n",
    "from gensim.models import word2vec\n",
    "# from kaggle.competitions import twosigmanews\n",
    "\n",
    "from sklearn.manifold import TSNE\n",
    "import matplotlib.pyplot as plt\n",
    "import seaborn as sns\n",
    "\n",
    "import bokeh.plotting as bp\n",
    "from bokeh.models import HoverTool, BoxSelectTool\n",
    "from bokeh.plotting import figure, show, output_notebook\n",
    "\n",
    "from nltk.tokenize import TweetTokenizer # a tweet tokenizer from nltk.\n",
    "from nltk.corpus import stopwords\n",
    "from nltk.stem import WordNetLemmatizer\n",
    "from nltk.stem import PorterStemmer\n",
    "\n",
    "%matplotlib inline"
   ]
  },
  {
   "cell_type": "code",
   "execution_count": 2,
   "metadata": {
    "_uuid": "440e3ed9f4684c27840bb8d889605e83b06057da"
   },
   "outputs": [
    {
     "name": "stdout",
     "output_type": "stream",
     "text": [
      "Number of CPUs: 55\n"
     ]
    }
   ],
   "source": [
    "cpu_count = 2*multiprocessing.cpu_count()-1\n",
    "print('Number of CPUs: {}'.format(cpu_count))"
   ]
  },
  {
   "cell_type": "code",
   "execution_count": 3,
   "metadata": {
    "_cell_guid": "79c7e3d0-c299-4dcb-8224-4455121ee9b0",
    "_uuid": "d629ff2d2480ee46fbb7e2d37f6b5fab8052498a"
   },
   "outputs": [],
   "source": [
    "# env = twosigmanews.make_env()\n",
    "# print('Done!')"
   ]
  },
  {
   "cell_type": "code",
   "execution_count": 4,
   "metadata": {
    "_uuid": "836c3d9c1ae2c56e15e85ebb0164cf763db60106"
   },
   "outputs": [],
   "source": [
    "# (market_train_df, news_train_df) = env.get_training_data()\n",
    "market_train_df = pd.read_csv(\"market_train_df.csv\")\n",
    "news_train_df = pd.read_csv(\"news_train_df.csv\")"
   ]
  },
  {
   "cell_type": "code",
   "execution_count": 5,
   "metadata": {
    "_uuid": "e53c1d91477d44087aaa3790757e7dd2aa5986b0"
   },
   "outputs": [],
   "source": [
    "assetName = 'Companhia de Bebidas das Americas Ambev'"
   ]
  },
  {
   "cell_type": "code",
   "execution_count": 6,
   "metadata": {
    "_uuid": "5268ed044f80025a31cafc7489a4dbdd9cf03b5c"
   },
   "outputs": [],
   "source": [
    "df = market_train_df[market_train_df['assetName']==assetName]\n",
    "df_news = news_train_df[news_train_df['assetName'] == assetName]"
   ]
  },
  {
   "cell_type": "code",
   "execution_count": 42,
   "metadata": {
    "_uuid": "f5dbeea8d6b5f81fdece573cc8da6c49db5796bb",
    "scrolled": true
   },
   "outputs": [
    {
     "data": {
      "text/html": [
       "<div>\n",
       "<style scoped>\n",
       "    .dataframe tbody tr th:only-of-type {\n",
       "        vertical-align: middle;\n",
       "    }\n",
       "\n",
       "    .dataframe tbody tr th {\n",
       "        vertical-align: top;\n",
       "    }\n",
       "\n",
       "    .dataframe thead th {\n",
       "        text-align: right;\n",
       "    }\n",
       "</style>\n",
       "<table border=\"1\" class=\"dataframe\">\n",
       "  <thead>\n",
       "    <tr style=\"text-align: right;\">\n",
       "      <th></th>\n",
       "      <th>Unnamed: 0</th>\n",
       "      <th>time</th>\n",
       "      <th>sourceTimestamp</th>\n",
       "      <th>firstCreated</th>\n",
       "      <th>sourceId</th>\n",
       "      <th>headline</th>\n",
       "      <th>urgency</th>\n",
       "      <th>takeSequence</th>\n",
       "      <th>provider</th>\n",
       "      <th>subjects</th>\n",
       "      <th>...</th>\n",
       "      <th>noveltyCount12H</th>\n",
       "      <th>noveltyCount24H</th>\n",
       "      <th>noveltyCount3D</th>\n",
       "      <th>noveltyCount5D</th>\n",
       "      <th>noveltyCount7D</th>\n",
       "      <th>volumeCounts12H</th>\n",
       "      <th>volumeCounts24H</th>\n",
       "      <th>volumeCounts3D</th>\n",
       "      <th>volumeCounts5D</th>\n",
       "      <th>volumeCounts7D</th>\n",
       "    </tr>\n",
       "  </thead>\n",
       "  <tbody>\n",
       "    <tr>\n",
       "      <th>43155</th>\n",
       "      <td>43155</td>\n",
       "      <td>2007-01-25 12:17:56+00:00</td>\n",
       "      <td>2007-01-25 12:17:56+00:00</td>\n",
       "      <td>2007-01-25 12:17:56+00:00</td>\n",
       "      <td>6b400521352cca5b</td>\n",
       "      <td>AmBev Announces the Commencement of the Volunt...</td>\n",
       "      <td>3</td>\n",
       "      <td>1</td>\n",
       "      <td>PRN</td>\n",
       "      <td>{'MRG', 'LATAM', 'NEWR', 'BR', 'BACT', 'BEV', ...</td>\n",
       "      <td>...</td>\n",
       "      <td>0</td>\n",
       "      <td>0</td>\n",
       "      <td>0</td>\n",
       "      <td>0</td>\n",
       "      <td>0</td>\n",
       "      <td>0</td>\n",
       "      <td>0</td>\n",
       "      <td>0</td>\n",
       "      <td>0</td>\n",
       "      <td>0</td>\n",
       "    </tr>\n",
       "    <tr>\n",
       "      <th>43188</th>\n",
       "      <td>43188</td>\n",
       "      <td>2007-01-25 12:21:57+00:00</td>\n",
       "      <td>2007-01-25 12:21:57+00:00</td>\n",
       "      <td>2007-01-25 12:18:53+00:00</td>\n",
       "      <td>84e2d80db01e7ece</td>\n",
       "      <td>AMBEV SAYS APPROVAL FROM COMMISSION DU SURVEIL...</td>\n",
       "      <td>1</td>\n",
       "      <td>3</td>\n",
       "      <td>RTRS</td>\n",
       "      <td>{'LATAM', 'BR', 'BEV', 'US', 'RTRS', 'REGS', '...</td>\n",
       "      <td>...</td>\n",
       "      <td>1</td>\n",
       "      <td>1</td>\n",
       "      <td>1</td>\n",
       "      <td>1</td>\n",
       "      <td>1</td>\n",
       "      <td>2</td>\n",
       "      <td>2</td>\n",
       "      <td>2</td>\n",
       "      <td>2</td>\n",
       "      <td>2</td>\n",
       "    </tr>\n",
       "    <tr>\n",
       "      <th>43192</th>\n",
       "      <td>43192</td>\n",
       "      <td>2007-01-25 12:22:29+00:00</td>\n",
       "      <td>2007-01-25 12:22:29+00:00</td>\n",
       "      <td>2007-01-25 12:18:53+00:00</td>\n",
       "      <td>21a6c31f991664ea</td>\n",
       "      <td>AMBEV &lt;ABV.N&gt; SAYS PURCHASE PRICE WILL BE U.S....</td>\n",
       "      <td>1</td>\n",
       "      <td>4</td>\n",
       "      <td>RTRS</td>\n",
       "      <td>{'LATAM', 'BR', 'BEV', 'US', 'RTRS', 'REGS', '...</td>\n",
       "      <td>...</td>\n",
       "      <td>1</td>\n",
       "      <td>1</td>\n",
       "      <td>1</td>\n",
       "      <td>1</td>\n",
       "      <td>1</td>\n",
       "      <td>3</td>\n",
       "      <td>3</td>\n",
       "      <td>3</td>\n",
       "      <td>3</td>\n",
       "      <td>3</td>\n",
       "    </tr>\n",
       "    <tr>\n",
       "      <th>43487</th>\n",
       "      <td>43487</td>\n",
       "      <td>2007-01-25 12:38:54+00:00</td>\n",
       "      <td>2007-01-25 12:38:54+00:00</td>\n",
       "      <td>2007-01-25 12:18:53+00:00</td>\n",
       "      <td>001118d2ae80b427</td>\n",
       "      <td>AmBev &lt;AMBV4.SA&gt; to start Quinsa offer</td>\n",
       "      <td>3</td>\n",
       "      <td>1</td>\n",
       "      <td>RTRS</td>\n",
       "      <td>{'LATAM', 'BR', 'BEV', 'US', 'RTRS', 'REGS', '...</td>\n",
       "      <td>...</td>\n",
       "      <td>0</td>\n",
       "      <td>0</td>\n",
       "      <td>0</td>\n",
       "      <td>0</td>\n",
       "      <td>0</td>\n",
       "      <td>4</td>\n",
       "      <td>4</td>\n",
       "      <td>4</td>\n",
       "      <td>4</td>\n",
       "      <td>4</td>\n",
       "    </tr>\n",
       "    <tr>\n",
       "      <th>43510</th>\n",
       "      <td>43510</td>\n",
       "      <td>2007-01-25 12:44:17+00:00</td>\n",
       "      <td>2007-01-25 12:44:17+00:00</td>\n",
       "      <td>2007-01-25 12:44:17+00:00</td>\n",
       "      <td>28145fde39ad98c6</td>\n",
       "      <td>INBEV &lt;INTB.BR&gt; SAYS AMBEV STARTS VOLUNTARY OF...</td>\n",
       "      <td>1</td>\n",
       "      <td>1</td>\n",
       "      <td>RTRS</td>\n",
       "      <td>{'EUROPE', 'LATAM', 'BR', 'WEU', 'BEV', 'BE', ...</td>\n",
       "      <td>...</td>\n",
       "      <td>0</td>\n",
       "      <td>0</td>\n",
       "      <td>0</td>\n",
       "      <td>0</td>\n",
       "      <td>0</td>\n",
       "      <td>5</td>\n",
       "      <td>5</td>\n",
       "      <td>5</td>\n",
       "      <td>5</td>\n",
       "      <td>5</td>\n",
       "    </tr>\n",
       "  </tbody>\n",
       "</table>\n",
       "<p>5 rows × 36 columns</p>\n",
       "</div>"
      ],
      "text/plain": [
       "       Unnamed: 0                       time            sourceTimestamp  \\\n",
       "43155       43155  2007-01-25 12:17:56+00:00  2007-01-25 12:17:56+00:00   \n",
       "43188       43188  2007-01-25 12:21:57+00:00  2007-01-25 12:21:57+00:00   \n",
       "43192       43192  2007-01-25 12:22:29+00:00  2007-01-25 12:22:29+00:00   \n",
       "43487       43487  2007-01-25 12:38:54+00:00  2007-01-25 12:38:54+00:00   \n",
       "43510       43510  2007-01-25 12:44:17+00:00  2007-01-25 12:44:17+00:00   \n",
       "\n",
       "                    firstCreated          sourceId  \\\n",
       "43155  2007-01-25 12:17:56+00:00  6b400521352cca5b   \n",
       "43188  2007-01-25 12:18:53+00:00  84e2d80db01e7ece   \n",
       "43192  2007-01-25 12:18:53+00:00  21a6c31f991664ea   \n",
       "43487  2007-01-25 12:18:53+00:00  001118d2ae80b427   \n",
       "43510  2007-01-25 12:44:17+00:00  28145fde39ad98c6   \n",
       "\n",
       "                                                headline  urgency  \\\n",
       "43155  AmBev Announces the Commencement of the Volunt...        3   \n",
       "43188  AMBEV SAYS APPROVAL FROM COMMISSION DU SURVEIL...        1   \n",
       "43192  AMBEV <ABV.N> SAYS PURCHASE PRICE WILL BE U.S....        1   \n",
       "43487             AmBev <AMBV4.SA> to start Quinsa offer        3   \n",
       "43510  INBEV <INTB.BR> SAYS AMBEV STARTS VOLUNTARY OF...        1   \n",
       "\n",
       "       takeSequence provider  \\\n",
       "43155             1      PRN   \n",
       "43188             3     RTRS   \n",
       "43192             4     RTRS   \n",
       "43487             1     RTRS   \n",
       "43510             1     RTRS   \n",
       "\n",
       "                                                subjects       ...        \\\n",
       "43155  {'MRG', 'LATAM', 'NEWR', 'BR', 'BACT', 'BEV', ...       ...         \n",
       "43188  {'LATAM', 'BR', 'BEV', 'US', 'RTRS', 'REGS', '...       ...         \n",
       "43192  {'LATAM', 'BR', 'BEV', 'US', 'RTRS', 'REGS', '...       ...         \n",
       "43487  {'LATAM', 'BR', 'BEV', 'US', 'RTRS', 'REGS', '...       ...         \n",
       "43510  {'EUROPE', 'LATAM', 'BR', 'WEU', 'BEV', 'BE', ...       ...         \n",
       "\n",
       "      noveltyCount12H  noveltyCount24H  noveltyCount3D noveltyCount5D  \\\n",
       "43155               0                0               0              0   \n",
       "43188               1                1               1              1   \n",
       "43192               1                1               1              1   \n",
       "43487               0                0               0              0   \n",
       "43510               0                0               0              0   \n",
       "\n",
       "       noveltyCount7D  volumeCounts12H  volumeCounts24H volumeCounts3D  \\\n",
       "43155               0                0                0              0   \n",
       "43188               1                2                2              2   \n",
       "43192               1                3                3              3   \n",
       "43487               0                4                4              4   \n",
       "43510               0                5                5              5   \n",
       "\n",
       "      volumeCounts5D  volumeCounts7D  \n",
       "43155              0               0  \n",
       "43188              2               2  \n",
       "43192              3               3  \n",
       "43487              4               4  \n",
       "43510              5               5  \n",
       "\n",
       "[5 rows x 36 columns]"
      ]
     },
     "execution_count": 42,
     "metadata": {},
     "output_type": "execute_result"
    }
   ],
   "source": [
    "df_news.head()"
   ]
  },
  {
   "cell_type": "code",
   "execution_count": 8,
   "metadata": {
    "_uuid": "a7a655d29cc724dbe0495b83a3a07c736ada6271"
   },
   "outputs": [],
   "source": [
    "data_from = '2012-03-10'\n",
    "data_to = '2014-09-10'\n",
    "\n",
    "df_small = df[ (df['time']>data_from) & (df['time'] < data_to)]\n",
    "df_news_small = df_news[(df_news['time'] > data_from) & (df_news['time'] < data_to)]"
   ]
  },
  {
   "cell_type": "code",
   "execution_count": 9,
   "metadata": {
    "_uuid": "cc9b5b37522e4b108de9b5617222b10b6b50f88e"
   },
   "outputs": [
    {
     "data": {
      "text/plain": [
       "\"\\nplt.subplot(2,1,2)\\nplt.plot(df_news_small['time'], df_news_small['sentimentNegative'], '--ro', label='Neg')\\nplt.plot(df_news_small['time'], df_news_small['sentimentNeutral'], '--bo', label='Neu')\\nplt.plot(df_news_small['time'], df_news_small['sentimentPositive'], '--go', label='Pos')\\nplt.legend()\\n\""
      ]
     },
     "execution_count": 9,
     "metadata": {},
     "output_type": "execute_result"
    },
    {
     "data": {
      "image/png": "[encoded data removed]",
      "text/plain": [
       "<Figure size 1152x360 with 1 Axes>"
      ]
     },
     "metadata": {
      "needs_background": "light"
     },
     "output_type": "display_data"
    }
   ],
   "source": [
    "plt.figure(figsize=(16,5))\n",
    "\n",
    "#plt.subplot(2,1,1)\n",
    "plt.plot(df_small['time'], df_small['close'])\n",
    "plt.title(assetName)\n",
    "plt.xlabel('Time', fontsize=16)\n",
    "'''\n",
    "plt.subplot(2,1,2)\n",
    "plt.plot(df_news_small['time'], df_news_small['sentimentNegative'], '--ro', label='Neg')\n",
    "plt.plot(df_news_small['time'], df_news_small['sentimentNeutral'], '--bo', label='Neu')\n",
    "plt.plot(df_news_small['time'], df_news_small['sentimentPositive'], '--go', label='Pos')\n",
    "plt.legend()\n",
    "'''"
   ]
  },
  {
   "cell_type": "code",
   "execution_count": 10,
   "metadata": {
    "_uuid": "deadeb390a6641e6ea97fa6abb0754d87c35fd19"
   },
   "outputs": [
    {
     "data": {
      "text/plain": [
       "<matplotlib.axes._subplots.AxesSubplot at 0x2b1fb5d40390>"
      ]
     },
     "execution_count": 10,
     "metadata": {},
     "output_type": "execute_result"
    },
    {
     "data": {
      "image/png": "[encoded data removed]",
      "text/plain": [
       "<Figure size 1440x576 with 1 Axes>"
      ]
     },
     "metadata": {
      "needs_background": "light"
     },
     "output_type": "display_data"
    }
   ],
   "source": [
    "plt.figure(figsize=(20,8))\n",
    "pd.value_counts(df_news_small['headlineTag']).plot(kind=\"barh\")"
   ]
  },
  {
   "cell_type": "code",
   "execution_count": 11,
   "metadata": {
    "_uuid": "f87e484f8147921873229ce3378369fce6ec77b8"
   },
   "outputs": [
    {
     "data": {
      "text/plain": [
       "4521683    JP MORGAN RAISES GRUPO MODELO <GMODELOC.MX> PR...\n",
       "4521684    JP MORGAN RAISES CCU <CCU.N> PRICE TARGET TO $...\n",
       "4521687    BRIEF-RESEARCH ALERT-JP Morgan raises Ambev, o...\n",
       "4529005    STXNEWS LATAM-Buy Vale, Itaú; sell Usiminas, H...\n",
       "4539144      MOODY'S COMMENTS ON ABI ACQUISITION SPECULATION\n",
       "Name: headline, dtype: object"
      ]
     },
     "execution_count": 11,
     "metadata": {},
     "output_type": "execute_result"
    }
   ],
   "source": [
    "df_news_small['headline'].head()"
   ]
  },
  {
   "cell_type": "code",
   "execution_count": 12,
   "metadata": {
    "_uuid": "9290065434d436fcf46353b4a17780a91621354a"
   },
   "outputs": [],
   "source": [
    "def get_wordCloud(corpus):\n",
    "    wordCloud = WordCloud(background_color='white',\n",
    "                              stopwords=STOPWORDS,\n",
    "                              width=3000,\n",
    "                              height=2500,\n",
    "                              max_words=200,\n",
    "                              random_state=42\n",
    "                         ).generate(str(corpus))\n",
    "    return wordCloud"
   ]
  },
  {
   "cell_type": "code",
   "execution_count": 13,
   "metadata": {
    "_uuid": "1d9119c5a706b62fdc5afb7a34f7fc5fc406a1ee"
   },
   "outputs": [],
   "source": [
    "def get_corpus(data):\n",
    "    corpus = []\n",
    "    for phrase in data:\n",
    "        for word in phrase.split():\n",
    "            corpus.append(word)\n",
    "    return corpus"
   ]
  },
  {
   "cell_type": "code",
   "execution_count": 14,
   "metadata": {
    "_uuid": "93dbb5569ca7002b725409732340c388f9c36902"
   },
   "outputs": [],
   "source": [
    "corpus = get_corpus(df_news_small['headline'].values)\n",
    "procWordCloud = get_wordCloud(corpus)"
   ]
  },
  {
   "cell_type": "code",
   "execution_count": 15,
   "metadata": {
    "_uuid": "c3d6e97e1755160459ddb4ed5ee15fd27a499f0c"
   },
   "outputs": [
    {
     "data": {
      "text/plain": [
       "4521683    JP MORGAN RAISES GRUPO MODELO <GMODELOC.MX> PR...\n",
       "4521684    JP MORGAN RAISES CCU <CCU.N> PRICE TARGET TO $...\n",
       "4521687    BRIEF-RESEARCH ALERT-JP Morgan raises Ambev, o...\n",
       "4529005    STXNEWS LATAM-Buy Vale, Itaú; sell Usiminas, H...\n",
       "4539144      MOODY'S COMMENTS ON ABI ACQUISITION SPECULATION\n",
       "Name: headline, dtype: object"
      ]
     },
     "execution_count": 15,
     "metadata": {},
     "output_type": "execute_result"
    }
   ],
   "source": [
    "df_news_small['headline'].head()"
   ]
  },
  {
   "cell_type": "code",
   "execution_count": 16,
   "metadata": {
    "_uuid": "8c61c664328556089671c4c1a0d1d988534c3853"
   },
   "outputs": [
    {
     "data": {
      "text/plain": [
       "Text(0.5, 0, 'Number of words in headline news')"
      ]
     },
     "execution_count": 16,
     "metadata": {},
     "output_type": "execute_result"
    },
    {
     "data": {
      "image/png": "[encoded data removed]",
      "text/plain": [
       "<Figure size 1440x576 with 2 Axes>"
      ]
     },
     "metadata": {
      "needs_background": "light"
     },
     "output_type": "display_data"
    }
   ],
   "source": [
    "fig = plt.figure(figsize=(20, 8))\n",
    "plt.subplot(1,2,1)\n",
    "plt.imshow(procWordCloud)\n",
    "plt.axis('off')\n",
    "\n",
    "plt.subplot(1,2,2)\n",
    "\n",
    "words_count = [len(x.split(' ')) for x in df_news_small['headline'].values]\n",
    "sns.distplot(words_count,hist=True, kde=False, bins=10, fit=norm)\n",
    "plt.title(\"Distribution of words in headline news\")\n",
    "plt.xlabel('Number of words in headline news')"
   ]
  },
  {
   "cell_type": "markdown",
   "metadata": {
    "_uuid": "0444d59c5604ab0e2118e0c16dad1bf6ec711649"
   },
   "source": [
    "**Text Features Extraction**"
   ]
  },
  {
   "cell_type": "code",
   "execution_count": 19,
   "metadata": {
    "_uuid": "0d28af74b187eeb2390fa7535f869a387fb0c87c"
   },
   "outputs": [],
   "source": [
    "#from:https://github.com/RenatoBMLR/nlpPy/tree/master/src\n",
    "\n",
    "class TextDataset():\n",
    "\n",
    "    def __init__(self, df, lang = 'english'):\n",
    "\n",
    "        self.data = df\n",
    "\n",
    "        self.tokenizer = TweetTokenizer()\n",
    "        self.stop_words = set(stopwords.words(lang))\n",
    "        self.lemmatizer = WordNetLemmatizer()\n",
    "        self.ps = PorterStemmer()\n",
    "        \n",
    "    def _get_tokens(self, words):    \n",
    "        return [word.lower() for word in words.split()]\n",
    "    \n",
    "    def _removeStopwords(self, words):\n",
    "        # Removing all the stopwords\n",
    "        return [word for word in words if word not in self.stop_words]\n",
    "\n",
    "    def _removePonctuation(self, words):\n",
    "        return re.sub(r'[^\\w\\s]', '', words)\n",
    "\n",
    "    def _lemmatizing(self, words):\n",
    "        #Lemmatizing\n",
    "        return [self.lemmatizer.lemmatize(word) for word in words]\n",
    "\n",
    "    def _stemming(self, words):\n",
    "        #Stemming\n",
    "        return [self.ps.stem(word) for word in words]\n",
    "\n",
    "\n",
    "    def process_data(self, col = 'content', remove_pontuation=True, remove_stopw = True, lemmalize = False, stem = False):\n",
    "\n",
    "        self.data = self.data.drop_duplicates(subset=col, keep=\"last\")\n",
    "        \n",
    "        proc_col = col\n",
    "        if remove_pontuation:\n",
    "            proc_col = col + '_data'\n",
    "            self.data[proc_col] = self.data[col].apply(lambda x: self._removePonctuation(x) )\n",
    "        \n",
    "        # get tokens of the sentence\n",
    "        self.data[proc_col] = self.data[proc_col].apply(lambda x: self._get_tokens(x))\n",
    "        if remove_stopw:\n",
    "            self.data[proc_col] = self.data[proc_col].apply(lambda x: self._removeStopwords(x)) \n",
    "        if lemmalize:\n",
    "            self.data[proc_col] = self.data[proc_col].apply(lambda x: self._lemmatizing(x) )\n",
    "        if stem:\n",
    "            self.data[proc_col] = self.data[proc_col].apply(lambda x: self._stemming(x))\n",
    "\n",
    "        self.data['nb_words'] = self.data[proc_col].apply(lambda x: len(x))\n",
    "        self.proc_col = proc_col\n",
    "        \n",
    "    def __len__(self):\n",
    "        return len(self.data)"
   ]
  },
  {
   "cell_type": "code",
   "execution_count": 22,
   "metadata": {
    "_uuid": "0faac7dfc0a93ba4c984fef47627025b2e65dc0b"
   },
   "outputs": [],
   "source": [
    "textDataset = TextDataset(df_news_small)"
   ]
  },
  {
   "cell_type": "code",
   "execution_count": 23,
   "metadata": {
    "_kg_hide-input": false,
    "_kg_hide-output": true,
    "_uuid": "ced4b8c28d745b7e4f167a1932d59474584ba611"
   },
   "outputs": [
    {
     "name": "stderr",
     "output_type": "stream",
     "text": [
      "/home/yz4499/miniconda3/envs/nlp/lib/python3.6/site-packages/ipykernel_launcher.py:40: SettingWithCopyWarning: \n",
      "A value is trying to be set on a copy of a slice from a DataFrame.\n",
      "Try using .loc[row_indexer,col_indexer] = value instead\n",
      "\n",
      "See the caveats in the documentation: http://pandas.pydata.org/pandas-docs/stable/indexing.html#indexing-view-versus-copy\n",
      "/home/yz4499/miniconda3/envs/nlp/lib/python3.6/site-packages/ipykernel_launcher.py:43: SettingWithCopyWarning: \n",
      "A value is trying to be set on a copy of a slice from a DataFrame.\n",
      "Try using .loc[row_indexer,col_indexer] = value instead\n",
      "\n",
      "See the caveats in the documentation: http://pandas.pydata.org/pandas-docs/stable/indexing.html#indexing-view-versus-copy\n",
      "/home/yz4499/miniconda3/envs/nlp/lib/python3.6/site-packages/ipykernel_launcher.py:45: SettingWithCopyWarning: \n",
      "A value is trying to be set on a copy of a slice from a DataFrame.\n",
      "Try using .loc[row_indexer,col_indexer] = value instead\n",
      "\n",
      "See the caveats in the documentation: http://pandas.pydata.org/pandas-docs/stable/indexing.html#indexing-view-versus-copy\n",
      "/home/yz4499/miniconda3/envs/nlp/lib/python3.6/site-packages/ipykernel_launcher.py:51: SettingWithCopyWarning: \n",
      "A value is trying to be set on a copy of a slice from a DataFrame.\n",
      "Try using .loc[row_indexer,col_indexer] = value instead\n",
      "\n",
      "See the caveats in the documentation: http://pandas.pydata.org/pandas-docs/stable/indexing.html#indexing-view-versus-copy\n"
     ]
    }
   ],
   "source": [
    "textDataset.process_data(col='headline')"
   ]
  },
  {
   "cell_type": "code",
   "execution_count": 24,
   "metadata": {
    "_uuid": "0543ee9a3d2d5fe4fce0f80057a205d3e7ed8d29"
   },
   "outputs": [
    {
     "data": {
      "text/plain": [
       "4521683    [jp, morgan, raises, grupo, modelo, gmodelocmx...\n",
       "4521684    [jp, morgan, raises, ccu, ccun, price, target,...\n",
       "4521687    [briefresearch, alertjp, morgan, raises, ambev...\n",
       "4529005    [stxnews, latambuy, vale, itaú, sell, usiminas...\n",
       "4539144    [moodys, comments, abi, acquisition, speculation]\n",
       "Name: headline_data, dtype: object"
      ]
     },
     "execution_count": 24,
     "metadata": {},
     "output_type": "execute_result"
    }
   ],
   "source": [
    "textDataset.data['headline_data'].head()"
   ]
  },
  {
   "cell_type": "code",
   "execution_count": 43,
   "metadata": {
    "_uuid": "6165b6ac28879ab301c730b3787b37e6e6e0bc13"
   },
   "outputs": [
    {
     "name": "stdout",
     "output_type": "stream",
     "text": [
      "[list(['jp', 'morgan', 'raises', 'grupo', 'modelo', 'gmodelocmx', 'price', 'target', 'pesos', '106', 'pesos', '94', 'rating', 'overweight'])\n",
      " list(['jp', 'morgan', 'raises', 'ccu', 'ccun', 'price', 'target', '82', '71', 'rating', 'overweight'])\n",
      " list(['briefresearch', 'alertjp', 'morgan', 'raises', 'ambev', 'others', 'price', 'target'])\n",
      " list(['stxnews', 'latambuy', 'vale', 'itaú', 'sell', 'usiminas', 'hsbc', 'recommends'])\n",
      " list(['moodys', 'comments', 'abi', 'acquisition', 'speculation'])\n",
      " list(['moodys', 'comments', 'abi', 'acquisition', 'speculation', 'abibrambv4sa'])\n",
      " list(['economic', 'stimulus', 'help', 'brazil', 'industrial', 'stocks'])\n",
      " list(['update', '1economic', 'stimulus', 'help', 'brazil', 'industrial', 'stocks'])\n",
      " list(['ambev', 'pay', '1', 'bln', 'stake', 'caribbean', 'brewer'])\n",
      " list(['update', '2ab', 'inbev', 'buy', '51', 'pct', 'dominican', 'brewer', 'cnd'])\n",
      " list(['update', '3ambev', 'buy', 'control', 'dominican', 'brewer', 'cnd'])\n",
      " list(['update', '4ambev', 'buy', 'control', 'dominican', 'brewer', 'cnd'])\n",
      " list(['spbulletin', 'ambev', 'ratings', 'unaffected', 'acquisition', 'cnd'])\n",
      " list(['textsp', 'ambev', 'ratings', 'unaffected', 'cnd', 'acquisition'])\n",
      " list(['deals', 'day', 'mergers', 'acquisitions'])\n",
      " list(['fitch', 'ambevs', 'dominican', 'acquisition', 'strategic', 'positive'])\n",
      " list(['textfitch', 'says', 'ambev', 'acquisition', 'strategic', 'positive'])\n",
      " list(['moodys', 'changes', 'cnds', 'outlook', 'positive'])\n",
      " list(['moodys', 'changes', 'cnds', 'outlook', 'positive'])\n",
      " list(['moodys', 'says', 'dominican', 'brewer', 'deal', 'credit', 'positive', 'anheuserbusch', 'inbev', 'abibrambv4sa'])\n",
      " list(['moodys', 'says', 'dominican', 'brewer', 'deal', 'credit', 'positive', 'anheuserbusch', 'inbev'])\n",
      " list(['moodys', 'comments', 'ambevs', 'strategic', 'alliance', 'caribbean', 'ambv4sa'])\n",
      " list(['moodys', 'comments', 'ambevs', 'strategic', 'alliance', 'caribbean'])\n",
      " list(['briefmoodys', 'comments', 'ambevs', 'strategic', 'alliance', 'caribbean'])\n",
      " list(['ab', 'inbev', 'hikes', 'us', 'beer', 'sales', 'sees', 'brazil', 'promise'])\n",
      " list(['update', '1ab', 'inbev', 'hikes', 'us', 'beer', 'sales', 'upbeat', 'brazil'])\n",
      " list(['update', '2brazil', 'tempers', 'us', 'sales', 'boost', 'ab', 'inbev'])\n",
      " list(['breakingviewsworlds', 'brewers', 'reach', 'last', 'call', 'latin', 'targets'])\n",
      " list(['fitch', 'upgrades', 'ambevs', 'ratings', 'outlook', 'stable'])\n",
      " list(['textfitch', 'raises', 'ambev', 'ratings'])\n",
      " list(['analysisslow', 'steady', 'mexico', 'draws', 'equity', 'bets', 'brazil'])\n",
      " list(['europe', 'research', 'roundup', 'deutsche', 'bank', 'swatch', 'nordea'])\n",
      " list(['update', '2ab', 'inbev', 'talks', 'buy', 'rest', 'modelosource'])\n",
      " list(['update', '3ab', 'inbev', 'talks', 'buy', 'rest', 'modelosource'])\n",
      " list(['ab', 'inbev', 'abibr', 'declines', 'comment', 'reports', 'seeking', 'buy', 'rest', 'grupo', 'modelo', 'gmodelocmx'])\n",
      " list(['ab', 'inbev', 'declines', 'comment', 'reports', 'modelo', 'interest'])\n",
      " list(['corona', 'beer', 'draws', 'ab', 'inbev', 'modelo', 'deal'])\n",
      " list(['update', '1modelo', 'says', 'talks', 'anheuserbusch', 'inbev'])\n",
      " list(['update', '2ab', 'inbev', 'talks', 'buy', 'mexicos', 'modelo'])\n",
      " list(['update', '3ab', 'inbev', 'talks', 'buy', 'mexicos', 'modelo'])\n",
      " list(['update', '4ab', 'inbev', 'talks', 'buy', 'mexicos', 'modelo'])\n",
      " list(['ab', 'inbev', 'buys', 'rest', 'modelo', '201', 'bln'])\n",
      " list(['update', '1ab', 'inbev', 'buys', 'corona', 'maker', 'modelo', '20', 'bln'])\n",
      " list(['update', '2ab', 'inbev', 'buys', 'corona', 'maker', 'modelo', '20', 'bln'])\n",
      " list(['update', '3ab', 'inbev', 'buys', 'corona', 'maker', 'modelo', '20', 'bln'])\n",
      " list(['update', '4ab', 'inbev', 'buys', 'corona', 'maker', 'modelo', '20', 'bln'])\n",
      " list(['update', '5ab', 'inbev', 'buys', 'corona', 'maker', 'modelo', '20', 'bln'])\n",
      " list(['update', '6ab', 'inbev', 'buys', 'corona', 'maker', 'modelo', '20', 'bln'])\n",
      " list(['sp', 'ups', 'ambev', 'companhia', 'de', 'bebidas', 'das', 'americas'])\n",
      " list(['ambev', 'reports', '2012', 'second', 'quarter', 'results', 'ifrs', 'abibrambv4sa'])\n",
      " list(['update', '1ab', 'inbev', 'dampened', 'beer', 'launches', 'transport', 'costs'])\n",
      " list(['new', 'beers', 'transport', 'costs', 'dent', 'ab', 'inbev', 'earnings'])\n",
      " list(['update', '2ab', 'inbev', 'goes', 'flat', 'new', 'beer', 'transport', 'costs'])\n",
      " list(['owner', 'labatt', 'usa', 'genesee', 'beer', 'seeks', 'buyersources'])\n",
      " list(['stxnews', 'latamchina', 'stimulus', 'power', 'rate', 'cuts', 'bolster', 'latam', 'stocksbofaml'])\n",
      " list(['china', 'loser', 'among', 'brics', 'vanguard', 'movejpm'])\n",
      " list(['refilechina', 'loser', 'among', 'brics', 'vanguard', 'movejpm'])\n",
      " list(['textsp', 'publishes', 'peer', 'comparison', 'global', 'brewers'])\n",
      " list(['ambev', 'reports', '2012', 'third', 'quarter', 'results', 'ifrs', 'abibrambv4sa'])\n",
      " list(['stxnews', 'latambofa', 'says', 'brazil', 'banks', 'vale', 'could', 'outperform'])\n",
      " list(['textsp', 'summary', 'anheuserbusch', 'inbev', 'nvsa'])\n",
      " list(['stxnews', 'latamsome', 'jpmorgan', 'poll', 'see', 'bovespa', 'around', '6000065000', 'points', 'next', 'year'])\n",
      " list(['ambev', 'restructure', 'shares', 'sao', 'paulo', 'stock', 'exchange', 'filing'])\n",
      " list(['emerging', 'marketsbrazil', 'stocks', 'modest', 'gains', 'mexico', 'flat'])\n",
      " list(['emerging', 'marketsmexico', 'stocks', 'hit', 'record', 'level', 'rosy', 'outlook'])\n",
      " list(['petrobras', 'ceo', 'says', 'fuel', 'imports', 'rising', 'awaits', 'price', 'increaseglobo'])\n",
      " list(['analysismost', 'us', 'funds', 'missed', 'mexico', 'gains', 'brazil', 'drop', '2012'])\n",
      " list(['stxnews', 'latambofa', 'says', 'cut', 'exposure', 'brazil', 'industrials', 'add', 'financials'])\n",
      " list(['cocacola', 'femsa', 'kofn', 'jp', 'morgan', 'raises', 'target', 'price', '158', '132', 'rating', 'neutral'])\n",
      " list(['brf', 'brasil', 'foods', 'brfsn', 'jp', 'morgan', 'raises', 'target', 'price', '21', '17', 'rating', 'underweight'])\n",
      " list(['soccerbrazil', 'league', 'bets', 'big', 'season', 'ticket', 'plan'])\n",
      " list(['previewpetrobras', 'q4', 'profit', 'seen', 'rising', 'costs', 'pinch', 'cash', 'flow'])\n",
      " list(['rptpreviewpetrobras', 'q4', 'profit', 'seen', 'rising', 'costs', 'pinch', 'cash', 'flow'])\n",
      " list(['ambev', 'reports', '2012', 'fourth', 'quarter', 'full', 'year', 'results', 'ifrs', 'ambv4sa'])\n",
      " list(['ambev', 'sees', 'unit', 'costs', 'year', 'currency', 'higher', 'taxes'])\n",
      " list(['stockcall', 'early', 'morning', 'insight', 'constellation', 'brands', 'sodastream', 'ambev', 'fomento', 'econ'])\n",
      " list(['beer', 'maker', 'brahma', 'shuts', 'venezuela', 'plant', 'sales', 'slide'])\n",
      " list(['brazils', 'ambev', 'says', 'exit', 'venezuela', 'limited', 'plant', 'closure'])\n",
      " list(['stxnews', 'lataminvestors', 'expect', 'persistently', 'high', 'brazil', 'inflationbofa'])\n",
      " list(['columncatch', 'falling', 'bric', 'put', 'pocket'])\n",
      " list(['ab', 'inbev', 'cuts', 'brazil', 'growth', 'outlook', 'weak', 'q1'])\n",
      " list(['update', '1ab', 'inbev', 'cuts', 'brazil', 'outlook', 'weak', 'start', 'year'])\n",
      " list(['ambev', 'reports', '2013', 'first', 'quarter', 'results', 'ifrs', 'ambv4sa'])\n",
      " list(['update', '2ab', 'inbev', 'cuts', 'brazil', 'outlook', 'weak', 'start', 'year'])\n",
      " list(['ambevs', '2012', 'annual', 'report', 'form', '20f', 'available', 'website', 'ambv4sa'])\n",
      " list(['emerging', 'marketsbrazil', 'stocks', 'mixed', 'firstquarter', 'earnings'])\n",
      " list(['emerging', 'marketsmexican', 'stocks', 'rise', 'america', 'movil', 'brazil'])\n",
      " list(['market', 'pulsemerck', 'chesapeake', 'energy', 'genworth', 'comcast', 'time', 'warner'])\n",
      " list(['market', 'pulsemerck', 'chesapeake', 'energy', 'genworth', 'neutral', 'tandem', 'titan', 'pharma'])\n",
      " list(['us', 'research', 'roundup', 'mastercard', 'visa', 'facebook'])\n",
      " list(['us', 'research', 'roundup', 'mastercard', 'visa', 'facebook', 'las', 'vegas', 'sands'])\n",
      " list(['stxnews', 'latambofa', 'sees', 'ambevs', 'share', 'merger', 'adding', '12', 'pct', 'eps'])\n",
      " list(['rptfitch', 'consumer', 'firms', 'follow', 'pmi', 'minority', 'buyouts'])\n",
      " list(['early', 'morning', 'insight', 'pfizer', 'merck', 'co', 'johnson', 'johnson', 'abbvie', 'zogenix'])\n",
      " list(['ambev', 'reports', '2013', 'second', 'quarter', 'results', 'ifrs', 'ambv4sa'])\n",
      " list(['stxnews', 'latambrazils', 'ambev', 'pass', 'next', 'beverage', 'tax', 'hike', 'customers'])\n",
      " list(['stxnews', 'latamhsbc', 'raises', 'target', 'local', 'shares', 'brazils', 'ambev'])\n",
      " list(['stxnews', 'latamstock', 'rating', 'price', 'target', 'activity', 'brazil', 'thursday'])\n",
      " list(['femsa', 'fmxn', 'jp', 'morgan', 'cuts', 'target', 'price', '119', '172', 'rating', 'overweight'])\n",
      " list(['grupo', 'bimbo', 'bimboamx', 'jp', 'morgan', 'raises', 'target', 'price', '45', 'pesos', '37', 'pesos', 'rating', 'neutral'])\n",
      " list(['brf', 'sa', 'brfs3sa', 'jp', 'morgan', 'raises', 'target', 'price', 'brl', '54', 'brl', '51', 'rating', 'neutral'])\n",
      " list(['research', 'alertsouza', 'cruz', 'jp', 'morgan', 'raises', 'overweight'])\n",
      " list(['correctedresearch', 'alertsouza', 'cruz', 'jp', 'morgan', 'raises', 'overweight', 'aug', '12'])\n",
      " list(['brazil', 'ipos', 'lost', 'money', 'since', '2005', 'credit', 'suisse'])\n",
      " list(['update', '1most', 'brazil', 'ipos', 'lost', 'money', 'since', '2005', 'credit', 'suisse'])\n",
      " list(['new', 'product', 'shareholdings', 'update', 'public', 'trading', 'updates', 'acquisitions', 'investor', 'conferences', 'research', 'report', 'gmcr', 'ab', 'inbev', 'ambev', 'smuckers', 'treehouse', 'foods'])\n",
      " list(['moodys', 'rates', 'anheuserbusch', 'inbev', 'bonds', 'a3', 'positive', 'outlook'])\n",
      " list(['moodys', 'rates', 'anheuserbusch', 'inbev', 'bonds', 'a3', 'positive', 'outlook'])\n",
      " list(['community', 'projects', 'upcoming', 'results', 'conference', 'schedules', 'prestigious', 'accolades', 'research', 'report', 'dr', 'pepper', 'snapple', 'ambev', 'diageo', 'sodastream', 'whitewave'])\n",
      " list(['ab', 'inbev', 'warns', 'full', 'year', 'decline', 'brazil', 'beer', 'sales'])\n",
      " list(['update', '1ab', 'inbev', 'warns', 'sagging', 'brazil', 'beer', 'sales', 'year'])\n",
      " list(['ambev', 'reports', 'third', 'quarter', '2013', 'results', 'ifrs', 'ambv4sa'])\n",
      " list(['femsa', 'fmxn', 'barclays', 'starts', 'overweight', 'rating', 'target', 'price', '111'])\n",
      " list(['httpslivebarcapcomprcservletsdvsearchcontentpubidfc1981286bcllinkdecod3'])\n",
      " list(['correctedfemsa', 'fmxn', 'barclays', 'starts', 'overweight', 'rating', 'target', 'price', '111', 'removes', 'extraneous', 'text'])\n",
      " list(['research', 'alertcoca', 'colafemsa', 'barclays', 'starts', 'equal', 'weight', 'rating'])\n",
      " list(['stxnews', 'latamstock', 'rating', 'price', 'target', 'changes', 'brazil'])]\n"
     ]
    }
   ],
   "source": [
    "X = textDataset.data['headline_data'].values\n",
    "print(X)"
   ]
  },
  {
   "cell_type": "code",
   "execution_count": 26,
   "metadata": {
    "_uuid": "376d6a9775403bc09a2eda7cd150022369870b6d"
   },
   "outputs": [
    {
     "data": {
      "text/plain": [
       "(1747, 4775)"
      ]
     },
     "execution_count": 26,
     "metadata": {},
     "output_type": "execute_result"
    }
   ],
   "source": [
    "# Set values for various parameters\n",
    "num_features = 3    # Word vector dimensionality                      \n",
    "min_word_count = 2   # Minimum word count                        \n",
    "num_workers = cpu_count  # Number of threads to run in parallel\n",
    "context = 3          # Context window size                                                                                    \n",
    "downsampling = 1e-3   # Downsample setting for frequent words\n",
    "\n",
    "\n",
    "W2Vmodel = word2vec.Word2Vec(workers=num_workers, \\\n",
    "            size=num_features, min_count = min_word_count, \\\n",
    "            window = context, sample = downsampling)\n",
    "\n",
    "\n",
    "W2Vmodel.build_vocab(X)\n",
    "\n",
    "W2Vmodel.train(X, \\\n",
    "            total_examples=W2Vmodel.corpus_count, epochs=W2Vmodel.epochs)"
   ]
  },
  {
   "cell_type": "code",
   "execution_count": 48,
   "metadata": {
    "_uuid": "cd19d59eea8d8c5bc2b00372088c51c4136e4efd"
   },
   "outputs": [],
   "source": [
    "def plot_tSNE(model,n_samples = 5000):\n",
    "\n",
    "    #https://www.oreilly.com/learning/an-illustrated-introduction-to-the-t-sne-algorithm\n",
    "    output_notebook()\n",
    "    fig = bp.figure(plot_width=700, plot_height=600, title=\"A map of \" + str(n_samples) + \" word vectors\",\n",
    "        tools=\"pan,wheel_zoom,box_zoom,reset,hover,previewsave\",\n",
    "        x_axis_type=None, y_axis_type=None, min_border=1)\n",
    "\n",
    "\n",
    "    word_vectors = [model[w] for w in model.wv.vocab.keys()][:n_samples]\n",
    "    #word_vectors = [token for token in f_matrix_train][0:n_samples]\n",
    "  #  print(model.wv.vocab.keys())\n",
    "    \n",
    "    tsne_model = TSNE(n_components=2, verbose=1, random_state=23)\n",
    "    tsne_w2v = tsne_model.fit_transform(word_vectors)\n",
    "    \n",
    "#     print(word_vectors)\n",
    "\n",
    "    tsne_df = pd.DataFrame(tsne_w2v, columns=['x', 'y'])\n",
    "    tsne_df['words'] = [k for k in model.wv.vocab.keys()][:n_samples]\n",
    "    print(tsne_df.head())\n",
    "    fig.scatter(x='x', y='y', source=tsne_df)\n",
    "    hover = fig.select(dict(type=HoverTool))\n",
    "    hover.tooltips={\"word\": \"@words\"}\n",
    "    show(fig)"
   ]
  },
  {
   "cell_type": "code",
   "execution_count": 49,
   "metadata": {
    "_uuid": "328c0a614ee7dcf032f2b41ae2d1f32e6bca10ce"
   },
   "outputs": [
    {
     "data": {
      "text/html": [
       "\n",
       "    <div class=\"bk-root\">\n",
       "        <a href=\"https://bokeh.pydata.org\" target=\"_blank\" class=\"bk-logo bk-logo-small bk-logo-notebook\"></a>\n",
       "        <span id=\"1505\">Loading BokehJS ...</span>\n",
       "    </div>"
      ]
     },
     "metadata": {},
     "output_type": "display_data"
    },
    {
     "data": {
      "application/javascript": [
       "\n",
       "(function(root) {\n",
       "  function now() {\n",
       "    return new Date();\n",
       "  }\n",
       "\n",
       "  var force = true;\n",
       "\n",
       "  if (typeof (root._bokeh_onload_callbacks) === \"undefined\" || force === true) {\n",
       "    root._bokeh_onload_callbacks = [];\n",
       "    root._bokeh_is_loading = undefined;\n",
       "  }\n",
       "\n",
       "  var JS_MIME_TYPE = 'application/javascript';\n",
       "  var HTML_MIME_TYPE = 'text/html';\n",
       "  var EXEC_MIME_TYPE = 'application/vnd.bokehjs_exec.v0+json';\n",
       "  var CLASS_NAME = 'output_bokeh rendered_html';\n",
       "\n",
       "  /**\n",
       "   * Render data to the DOM node\n",
       "   */\n",
       "  function render(props, node) {\n",
       "    var script = document.createElement(\"script\");\n",
       "    node.appendChild(script);\n",
       "  }\n",
       "\n",
       "  /**\n",
       "   * Handle when an output is cleared or removed\n",
       "   */\n",
       "  function handleClearOutput(event, handle) {\n",
       "    var cell = handle.cell;\n",
       "\n",
       "    var id = cell.output_area._bokeh_element_id;\n",
       "    var server_id = cell.output_area._bokeh_server_id;\n",
       "    // Clean up Bokeh references\n",
       "    if (id != null && id in Bokeh.index) {\n",
       "      Bokeh.index[id].model.document.clear();\n",
       "      delete Bokeh.index[id];\n",
       "    }\n",
       "\n",
       "    if (server_id !== undefined) {\n",
       "      // Clean up Bokeh references\n",
       "      var cmd = \"from bokeh.io.state import curstate; print(curstate().uuid_to_server['\" + server_id + \"'].get_sessions()[0].document.roots[0]._id)\";\n",
       "      cell.notebook.kernel.execute(cmd, {\n",
       "        iopub: {\n",
       "          output: function(msg) {\n",
       "            var id = msg.content.text.trim();\n",
       "            if (id in Bokeh.index) {\n",
       "              Bokeh.index[id].model.document.clear();\n",
       "              delete Bokeh.index[id];\n",
       "            }\n",
       "          }\n",
       "        }\n",
       "      });\n",
       "      // Destroy server and session\n",
       "      var cmd = \"import bokeh.io.notebook as ion; ion.destroy_server('\" + server_id + \"')\";\n",
       "      cell.notebook.kernel.execute(cmd);\n",
       "    }\n",
       "  }\n",
       "\n",
       "  /**\n",
       "   * Handle when a new output is added\n",
       "   */\n",
       "  function handleAddOutput(event, handle) {\n",
       "    var output_area = handle.output_area;\n",
       "    var output = handle.output;\n",
       "\n",
       "    // limit handleAddOutput to display_data with EXEC_MIME_TYPE content only\n",
       "    if ((output.output_type != \"display_data\") || (!output.data.hasOwnProperty(EXEC_MIME_TYPE))) {\n",
       "      return\n",
       "    }\n",
       "\n",
       "    var toinsert = output_area.element.find(\".\" + CLASS_NAME.split(' ')[0]);\n",
       "\n",
       "    if (output.metadata[EXEC_MIME_TYPE][\"id\"] !== undefined) {\n",
       "      toinsert[toinsert.length - 1].firstChild.textContent = output.data[JS_MIME_TYPE];\n",
       "      // store reference to embed id on output_area\n",
       "      output_area._bokeh_element_id = output.metadata[EXEC_MIME_TYPE][\"id\"];\n",
       "    }\n",
       "    if (output.metadata[EXEC_MIME_TYPE][\"server_id\"] !== undefined) {\n",
       "      var bk_div = document.createElement(\"div\");\n",
       "      bk_div.innerHTML = output.data[HTML_MIME_TYPE];\n",
       "      var script_attrs = bk_div.children[0].attributes;\n",
       "      for (var i = 0; i < script_attrs.length; i++) {\n",
       "        toinsert[toinsert.length - 1].firstChild.setAttribute(script_attrs[i].name, script_attrs[i].value);\n",
       "      }\n",
       "      // store reference to server id on output_area\n",
       "      output_area._bokeh_server_id = output.metadata[EXEC_MIME_TYPE][\"server_id\"];\n",
       "    }\n",
       "  }\n",
       "\n",
       "  function register_renderer(events, OutputArea) {\n",
       "\n",
       "    function append_mime(data, metadata, element) {\n",
       "      // create a DOM node to render to\n",
       "      var toinsert = this.create_output_subarea(\n",
       "        metadata,\n",
       "        CLASS_NAME,\n",
       "        EXEC_MIME_TYPE\n",
       "      );\n",
       "      this.keyboard_manager.register_events(toinsert);\n",
       "      // Render to node\n",
       "      var props = {data: data, metadata: metadata[EXEC_MIME_TYPE]};\n",
       "      render(props, toinsert[toinsert.length - 1]);\n",
       "      element.append(toinsert);\n",
       "      return toinsert\n",
       "    }\n",
       "\n",
       "    /* Handle when an output is cleared or removed */\n",
       "    events.on('clear_output.CodeCell', handleClearOutput);\n",
       "    events.on('delete.Cell', handleClearOutput);\n",
       "\n",
       "    /* Handle when a new output is added */\n",
       "    events.on('output_added.OutputArea', handleAddOutput);\n",
       "\n",
       "    /**\n",
       "     * Register the mime type and append_mime function with output_area\n",
       "     */\n",
       "    OutputArea.prototype.register_mime_type(EXEC_MIME_TYPE, append_mime, {\n",
       "      /* Is output safe? */\n",
       "      safe: true,\n",
       "      /* Index of renderer in `output_area.display_order` */\n",
       "      index: 0\n",
       "    });\n",
       "  }\n",
       "\n",
       "  // register the mime type if in Jupyter Notebook environment and previously unregistered\n",
       "  if (root.Jupyter !== undefined) {\n",
       "    var events = require('base/js/events');\n",
       "    var OutputArea = require('notebook/js/outputarea').OutputArea;\n",
       "\n",
       "    if (OutputArea.prototype.mime_types().indexOf(EXEC_MIME_TYPE) == -1) {\n",
       "      register_renderer(events, OutputArea);\n",
       "    }\n",
       "  }\n",
       "\n",
       "  \n",
       "  if (typeof (root._bokeh_timeout) === \"undefined\" || force === true) {\n",
       "    root._bokeh_timeout = Date.now() + 5000;\n",
       "    root._bokeh_failed_load = false;\n",
       "  }\n",
       "\n",
       "  var NB_LOAD_WARNING = {'data': {'text/html':\n",
       "     \"<div style='background-color: #fdd'>\\n\"+\n",
       "     \"<p>\\n\"+\n",
       "     \"BokehJS does not appear to have successfully loaded. If loading BokehJS from CDN, this \\n\"+\n",
       "     \"may be due to a slow or bad network connection. Possible fixes:\\n\"+\n",
       "     \"</p>\\n\"+\n",
       "     \"<ul>\\n\"+\n",
       "     \"<li>re-rerun `output_notebook()` to attempt to load from CDN again, or</li>\\n\"+\n",
       "     \"<li>use INLINE resources instead, as so:</li>\\n\"+\n",
       "     \"</ul>\\n\"+\n",
       "     \"<code>\\n\"+\n",
       "     \"from bokeh.resources import INLINE\\n\"+\n",
       "     \"output_notebook(resources=INLINE)\\n\"+\n",
       "     \"</code>\\n\"+\n",
       "     \"</div>\"}};\n",
       "\n",
       "  function display_loaded() {\n",
       "    var el = document.getElementById(\"1505\");\n",
       "    if (el != null) {\n",
       "      el.textContent = \"BokehJS is loading...\";\n",
       "    }\n",
       "    if (root.Bokeh !== undefined) {\n",
       "      if (el != null) {\n",
       "        el.textContent = \"BokehJS \" + root.Bokeh.version + \" successfully loaded.\";\n",
       "      }\n",
       "    } else if (Date.now() < root._bokeh_timeout) {\n",
       "      setTimeout(display_loaded, 100)\n",
       "    }\n",
       "  }\n",
       "\n",
       "\n",
       "  function run_callbacks() {\n",
       "    try {\n",
       "      root._bokeh_onload_callbacks.forEach(function(callback) { callback() });\n",
       "    }\n",
       "    finally {\n",
       "      delete root._bokeh_onload_callbacks\n",
       "    }\n",
       "    console.info(\"Bokeh: all callbacks have finished\");\n",
       "  }\n",
       "\n",
       "  function load_libs(js_urls, callback) {\n",
       "    root._bokeh_onload_callbacks.push(callback);\n",
       "    if (root._bokeh_is_loading > 0) {\n",
       "      console.log(\"Bokeh: BokehJS is being loaded, scheduling callback at\", now());\n",
       "      return null;\n",
       "    }\n",
       "    if (js_urls == null || js_urls.length === 0) {\n",
       "      run_callbacks();\n",
       "      return null;\n",
       "    }\n",
       "    console.log(\"Bokeh: BokehJS not loaded, scheduling load and callback at\", now());\n",
       "    root._bokeh_is_loading = js_urls.length;\n",
       "    for (var i = 0; i < js_urls.length; i++) {\n",
       "      var url = js_urls[i];\n",
       "      var s = document.createElement('script');\n",
       "      s.src = url;\n",
       "      s.async = false;\n",
       "      s.onreadystatechange = s.onload = function() {\n",
       "        root._bokeh_is_loading--;\n",
       "        if (root._bokeh_is_loading === 0) {\n",
       "          console.log(\"Bokeh: all BokehJS libraries loaded\");\n",
       "          run_callbacks()\n",
       "        }\n",
       "      };\n",
       "      s.onerror = function() {\n",
       "        console.warn(\"failed to load library \" + url);\n",
       "      };\n",
       "      console.log(\"Bokeh: injecting script tag for BokehJS library: \", url);\n",
       "      document.getElementsByTagName(\"head\")[0].appendChild(s);\n",
       "    }\n",
       "  };var element = document.getElementById(\"1505\");\n",
       "  if (element == null) {\n",
       "    console.log(\"Bokeh: ERROR: autoload.js configured with elementid '1505' but no matching script tag was found. \")\n",
       "    return false;\n",
       "  }\n",
       "\n",
       "  var js_urls = [\"https://cdn.pydata.org/bokeh/release/bokeh-1.0.1.min.js\", \"https://cdn.pydata.org/bokeh/release/bokeh-widgets-1.0.1.min.js\", \"https://cdn.pydata.org/bokeh/release/bokeh-tables-1.0.1.min.js\", \"https://cdn.pydata.org/bokeh/release/bokeh-gl-1.0.1.min.js\"];\n",
       "\n",
       "  var inline_js = [\n",
       "    function(Bokeh) {\n",
       "      Bokeh.set_log_level(\"info\");\n",
       "    },\n",
       "    \n",
       "    function(Bokeh) {\n",
       "      \n",
       "    },\n",
       "    function(Bokeh) {\n",
       "      console.log(\"Bokeh: injecting CSS: https://cdn.pydata.org/bokeh/release/bokeh-1.0.1.min.css\");\n",
       "      Bokeh.embed.inject_css(\"https://cdn.pydata.org/bokeh/release/bokeh-1.0.1.min.css\");\n",
       "      console.log(\"Bokeh: injecting CSS: https://cdn.pydata.org/bokeh/release/bokeh-widgets-1.0.1.min.css\");\n",
       "      Bokeh.embed.inject_css(\"https://cdn.pydata.org/bokeh/release/bokeh-widgets-1.0.1.min.css\");\n",
       "      console.log(\"Bokeh: injecting CSS: https://cdn.pydata.org/bokeh/release/bokeh-tables-1.0.1.min.css\");\n",
       "      Bokeh.embed.inject_css(\"https://cdn.pydata.org/bokeh/release/bokeh-tables-1.0.1.min.css\");\n",
       "    }\n",
       "  ];\n",
       "\n",
       "  function run_inline_js() {\n",
       "    \n",
       "    if ((root.Bokeh !== undefined) || (force === true)) {\n",
       "      for (var i = 0; i < inline_js.length; i++) {\n",
       "        inline_js[i].call(root, root.Bokeh);\n",
       "      }if (force === true) {\n",
       "        display_loaded();\n",
       "      }} else if (Date.now() < root._bokeh_timeout) {\n",
       "      setTimeout(run_inline_js, 100);\n",
       "    } else if (!root._bokeh_failed_load) {\n",
       "      console.log(\"Bokeh: BokehJS failed to load within specified timeout.\");\n",
       "      root._bokeh_failed_load = true;\n",
       "    } else if (force !== true) {\n",
       "      var cell = $(document.getElementById(\"1505\")).parents('.cell').data().cell;\n",
       "      cell.output_area.append_execute_result(NB_LOAD_WARNING)\n",
       "    }\n",
       "\n",
       "  }\n",
       "\n",
       "  if (root._bokeh_is_loading === 0) {\n",
       "    console.log(\"Bokeh: BokehJS loaded, going straight to plotting\");\n",
       "    run_inline_js();\n",
       "  } else {\n",
       "    load_libs(js_urls, function() {\n",
       "      console.log(\"Bokeh: BokehJS plotting callback run at\", now());\n",
       "      run_inline_js();\n",
       "    });\n",
       "  }\n",
       "}(window));"
      ],
      "application/vnd.bokehjs_load.v0+json": "\n(function(root) {\n  function now() {\n    return new Date();\n  }\n\n  var force = true;\n\n  if (typeof (root._bokeh_onload_callbacks) === \"undefined\" || force === true) {\n    root._bokeh_onload_callbacks = [];\n    root._bokeh_is_loading = undefined;\n  }\n\n  \n\n  \n  if (typeof (root._bokeh_timeout) === \"undefined\" || force === true) {\n    root._bokeh_timeout = Date.now() + 5000;\n    root._bokeh_failed_load = false;\n  }\n\n  var NB_LOAD_WARNING = {'data': {'text/html':\n     \"<div style='background-color: #fdd'>\\n\"+\n     \"<p>\\n\"+\n     \"BokehJS does not appear to have successfully loaded. If loading BokehJS from CDN, this \\n\"+\n     \"may be due to a slow or bad network connection. Possible fixes:\\n\"+\n     \"</p>\\n\"+\n     \"<ul>\\n\"+\n     \"<li>re-rerun `output_notebook()` to attempt to load from CDN again, or</li>\\n\"+\n     \"<li>use INLINE resources instead, as so:</li>\\n\"+\n     \"</ul>\\n\"+\n     \"<code>\\n\"+\n     \"from bokeh.resources import INLINE\\n\"+\n     \"output_notebook(resources=INLINE)\\n\"+\n     \"</code>\\n\"+\n     \"</div>\"}};\n\n  function display_loaded() {\n    var el = document.getElementById(\"1505\");\n    if (el != null) {\n      el.textContent = \"BokehJS is loading...\";\n    }\n    if (root.Bokeh !== undefined) {\n      if (el != null) {\n        el.textContent = \"BokehJS \" + root.Bokeh.version + \" successfully loaded.\";\n      }\n    } else if (Date.now() < root._bokeh_timeout) {\n      setTimeout(display_loaded, 100)\n    }\n  }\n\n\n  function run_callbacks() {\n    try {\n      root._bokeh_onload_callbacks.forEach(function(callback) { callback() });\n    }\n    finally {\n      delete root._bokeh_onload_callbacks\n    }\n    console.info(\"Bokeh: all callbacks have finished\");\n  }\n\n  function load_libs(js_urls, callback) {\n    root._bokeh_onload_callbacks.push(callback);\n    if (root._bokeh_is_loading > 0) {\n      console.log(\"Bokeh: BokehJS is being loaded, scheduling callback at\", now());\n      return null;\n    }\n    if (js_urls == null || js_urls.length === 0) {\n      run_callbacks();\n      return null;\n    }\n    console.log(\"Bokeh: BokehJS not loaded, scheduling load and callback at\", now());\n    root._bokeh_is_loading = js_urls.length;\n    for (var i = 0; i < js_urls.length; i++) {\n      var url = js_urls[i];\n      var s = document.createElement('script');\n      s.src = url;\n      s.async = false;\n      s.onreadystatechange = s.onload = function() {\n        root._bokeh_is_loading--;\n        if (root._bokeh_is_loading === 0) {\n          console.log(\"Bokeh: all BokehJS libraries loaded\");\n          run_callbacks()\n        }\n      };\n      s.onerror = function() {\n        console.warn(\"failed to load library \" + url);\n      };\n      console.log(\"Bokeh: injecting script tag for BokehJS library: \", url);\n      document.getElementsByTagName(\"head\")[0].appendChild(s);\n    }\n  };var element = document.getElementById(\"1505\");\n  if (element == null) {\n    console.log(\"Bokeh: ERROR: autoload.js configured with elementid '1505' but no matching script tag was found. \")\n    return false;\n  }\n\n  var js_urls = [\"https://cdn.pydata.org/bokeh/release/bokeh-1.0.1.min.js\", \"https://cdn.pydata.org/bokeh/release/bokeh-widgets-1.0.1.min.js\", \"https://cdn.pydata.org/bokeh/release/bokeh-tables-1.0.1.min.js\", \"https://cdn.pydata.org/bokeh/release/bokeh-gl-1.0.1.min.js\"];\n\n  var inline_js = [\n    function(Bokeh) {\n      Bokeh.set_log_level(\"info\");\n    },\n    \n    function(Bokeh) {\n      \n    },\n    function(Bokeh) {\n      console.log(\"Bokeh: injecting CSS: https://cdn.pydata.org/bokeh/release/bokeh-1.0.1.min.css\");\n      Bokeh.embed.inject_css(\"https://cdn.pydata.org/bokeh/release/bokeh-1.0.1.min.css\");\n      console.log(\"Bokeh: injecting CSS: https://cdn.pydata.org/bokeh/release/bokeh-widgets-1.0.1.min.css\");\n      Bokeh.embed.inject_css(\"https://cdn.pydata.org/bokeh/release/bokeh-widgets-1.0.1.min.css\");\n      console.log(\"Bokeh: injecting CSS: https://cdn.pydata.org/bokeh/release/bokeh-tables-1.0.1.min.css\");\n      Bokeh.embed.inject_css(\"https://cdn.pydata.org/bokeh/release/bokeh-tables-1.0.1.min.css\");\n    }\n  ];\n\n  function run_inline_js() {\n    \n    if ((root.Bokeh !== undefined) || (force === true)) {\n      for (var i = 0; i < inline_js.length; i++) {\n        inline_js[i].call(root, root.Bokeh);\n      }if (force === true) {\n        display_loaded();\n      }} else if (Date.now() < root._bokeh_timeout) {\n      setTimeout(run_inline_js, 100);\n    } else if (!root._bokeh_failed_load) {\n      console.log(\"Bokeh: BokehJS failed to load within specified timeout.\");\n      root._bokeh_failed_load = true;\n    } else if (force !== true) {\n      var cell = $(document.getElementById(\"1505\")).parents('.cell').data().cell;\n      cell.output_area.append_execute_result(NB_LOAD_WARNING)\n    }\n\n  }\n\n  if (root._bokeh_is_loading === 0) {\n    console.log(\"Bokeh: BokehJS loaded, going straight to plotting\");\n    run_inline_js();\n  } else {\n    load_libs(js_urls, function() {\n      console.log(\"Bokeh: BokehJS plotting callback run at\", now());\n      run_inline_js();\n    });\n  }\n}(window));"
     },
     "metadata": {},
     "output_type": "display_data"
    },
    {
     "name": "stderr",
     "output_type": "stream",
     "text": [
      "/home/yz4499/miniconda3/envs/nlp/lib/python3.6/site-packages/ipykernel_launcher.py:10: DeprecationWarning: Call to deprecated `__getitem__` (Method will be removed in 4.0.0, use self.wv.__getitem__() instead).\n",
      "  # Remove the CWD from sys.path while we load stuff.\n"
     ]
    },
    {
     "name": "stdout",
     "output_type": "stream",
     "text": [
      "[t-SNE] Computing 91 nearest neighbors...\n",
      "[t-SNE] Indexed 156 samples in 0.000s...\n",
      "[t-SNE] Computed neighbors for 156 samples in 0.004s...\n",
      "[t-SNE] Computed conditional probabilities for sample 156 / 156\n",
      "[t-SNE] Mean sigma: 0.079580\n",
      "[t-SNE] KL divergence after 250 iterations with early exaggeration: 58.760563\n",
      "[t-SNE] KL divergence after 800 iterations: 0.467222\n",
      "          x         y   words\n",
      "0  2.619556  3.313134      jp\n",
      "1  4.990160  3.596792  morgan\n",
      "2  4.303903  4.447913  raises\n",
      "3  2.494354  5.612662   grupo\n",
      "4 -2.863009  1.676826  modelo\n"
     ]
    },
    {
     "data": {
      "text/html": [
       "\n",
       "\n",
       "\n",
       "\n",
       "\n",
       "\n",
       "  <div class=\"bk-root\" id=\"f3e93cbb-757d-4646-85d2-fa58b00bec63\"></div>\n"
      ]
     },
     "metadata": {},
     "output_type": "display_data"
    },
    {
     "data": {
      "application/javascript": [
       "(function(root) {\n",
       "  function embed_document(root) {\n",
       "    \n",
       "  var docs_json = {\"7fe69b04-359a-4a7d-bddc-a1895d0679bc\":{\"roots\":{\"references\":[{\"attributes\":{\"min_border\":1,\"plot_width\":700,\"renderers\":[{\"id\":\"1525\",\"type\":\"BoxAnnotation\"},{\"id\":\"1536\",\"type\":\"GlyphRenderer\"}],\"title\":{\"id\":\"1506\",\"type\":\"Title\"},\"toolbar\":{\"id\":\"1523\",\"type\":\"Toolbar\"},\"x_range\":{\"id\":\"1509\",\"type\":\"DataRange1d\"},\"x_scale\":{\"id\":\"1513\",\"type\":\"LinearScale\"},\"y_range\":{\"id\":\"1511\",\"type\":\"DataRange1d\"},\"y_scale\":{\"id\":\"1515\",\"type\":\"LinearScale\"}},\"id\":\"1507\",\"subtype\":\"Figure\",\"type\":\"Plot\"},{\"attributes\":{\"overlay\":{\"id\":\"1525\",\"type\":\"BoxAnnotation\"}},\"id\":\"1519\",\"type\":\"BoxZoomTool\"},{\"attributes\":{},\"id\":\"1540\",\"type\":\"UnionRenderers\"},{\"attributes\":{},\"id\":\"1517\",\"type\":\"PanTool\"},{\"attributes\":{\"callback\":null},\"id\":\"1509\",\"type\":\"DataRange1d\"},{\"attributes\":{},\"id\":\"1518\",\"type\":\"WheelZoomTool\"},{\"attributes\":{},\"id\":\"1520\",\"type\":\"ResetTool\"},{\"attributes\":{\"callback\":null,\"renderers\":\"auto\",\"tooltips\":[[\"word\",\"@words\"]]},\"id\":\"1521\",\"type\":\"HoverTool\"},{\"attributes\":{},\"id\":\"1513\",\"type\":\"LinearScale\"},{\"attributes\":{},\"id\":\"1515\",\"type\":\"LinearScale\"},{\"attributes\":{\"active_drag\":\"auto\",\"active_inspect\":\"auto\",\"active_multi\":null,\"active_scroll\":\"auto\",\"active_tap\":\"auto\",\"tools\":[{\"id\":\"1517\",\"type\":\"PanTool\"},{\"id\":\"1518\",\"type\":\"WheelZoomTool\"},{\"id\":\"1519\",\"type\":\"BoxZoomTool\"},{\"id\":\"1520\",\"type\":\"ResetTool\"},{\"id\":\"1521\",\"type\":\"HoverTool\"},{\"id\":\"1522\",\"type\":\"SaveTool\"}]},\"id\":\"1523\",\"type\":\"Toolbar\"},{\"attributes\":{},\"id\":\"1522\",\"type\":\"SaveTool\"},{\"attributes\":{\"bottom_units\":\"screen\",\"fill_alpha\":{\"value\":0.5},\"fill_color\":{\"value\":\"lightgrey\"},\"left_units\":\"screen\",\"level\":\"overlay\",\"line_alpha\":{\"value\":1.0},\"line_color\":{\"value\":\"black\"},\"line_dash\":[4,4],\"line_width\":{\"value\":2},\"plot\":null,\"render_mode\":\"css\",\"right_units\":\"screen\",\"top_units\":\"screen\"},\"id\":\"1525\",\"type\":\"BoxAnnotation\"},{\"attributes\":{\"fill_alpha\":{\"value\":0.1},\"fill_color\":{\"value\":\"#1f77b4\"},\"line_alpha\":{\"value\":0.1},\"line_color\":{\"value\":\"#1f77b4\"},\"x\":{\"field\":\"x\"},\"y\":{\"field\":\"y\"}},\"id\":\"1535\",\"type\":\"Scatter\"},{\"attributes\":{\"callback\":null,\"data\":{\"index\":[0,1,2,3,4,5,6,7,8,9,10,11,12,13,14,15,16,17,18,19,20,21,22,23,24,25,26,27,28,29,30,31,32,33,34,35,36,37,38,39,40,41,42,43,44,45,46,47,48,49,50,51,52,53,54,55,56,57,58,59,60,61,62,63,64,65,66,67,68,69,70,71,72,73,74,75,76,77,78,79,80,81,82,83,84,85,86,87,88,89,90,91,92,93,94,95,96,97,98,99,100,101,102,103,104,105,106,107,108,109,110,111,112,113,114,115,116,117,118,119,120,121,122,123,124,125,126,127,128,129,130,131,132,133,134,135,136,137,138,139,140,141,142,143,144,145,146,147,148,149,150,151,152,153,154,155],\"words\":[\"jp\",\"morgan\",\"raises\",\"grupo\",\"modelo\",\"gmodelocmx\",\"price\",\"target\",\"pesos\",\"rating\",\"overweight\",\"ambev\",\"stxnews\",\"vale\",\"moodys\",\"comments\",\"abi\",\"acquisition\",\"speculation\",\"abibrambv4sa\",\"stimulus\",\"help\",\"brazil\",\"industrial\",\"stocks\",\"update\",\"bln\",\"caribbean\",\"brewer\",\"2ab\",\"inbev\",\"buy\",\"51\",\"pct\",\"dominican\",\"cnd\",\"control\",\"ratings\",\"unaffected\",\"textsp\",\"acquisitions\",\"fitch\",\"ambevs\",\"strategic\",\"positive\",\"textfitch\",\"says\",\"changes\",\"cnds\",\"outlook\",\"deal\",\"credit\",\"anheuserbusch\",\"alliance\",\"ambv4sa\",\"ab\",\"hikes\",\"us\",\"beer\",\"sales\",\"sees\",\"1ab\",\"brewers\",\"mexico\",\"draws\",\"bets\",\"research\",\"roundup\",\"talks\",\"rest\",\"modelosource\",\"3ab\",\"declines\",\"comment\",\"reports\",\"corona\",\"mexicos\",\"4ab\",\"buys\",\"maker\",\"20\",\"2012\",\"second\",\"quarter\",\"results\",\"ifrs\",\"transport\",\"costs\",\"new\",\"earnings\",\"flat\",\"cuts\",\"loser\",\"among\",\"brics\",\"vanguard\",\"movejpm\",\"third\",\"latambofa\",\"next\",\"year\",\"shares\",\"emerging\",\"marketsbrazil\",\"gains\",\"rising\",\"femsa\",\"neutral\",\"brf\",\"foods\",\"q4\",\"profit\",\"seen\",\"pinch\",\"cash\",\"flow\",\"full\",\"early\",\"morning\",\"insight\",\"sodastream\",\"venezuela\",\"plant\",\"brazils\",\"weak\",\"start\",\"2013\",\"report\",\"market\",\"pulsemerck\",\"chesapeake\",\"energy\",\"genworth\",\"mastercard\",\"visa\",\"facebook\",\"12\",\"johnson\",\"latamstock\",\"fmxn\",\"brl\",\"alertsouza\",\"cruz\",\"ipos\",\"lost\",\"money\",\"since\",\"2005\",\"suisse\",\"rates\",\"bonds\",\"a3\",\"warns\",\"barclays\",\"starts\",\"111\"],\"x\":{\"__ndarray__\":\"z6YnQGSvn0CSuYlAgKMfQIw7N8CvbQi/j3MswGZ0Yj6vIx3BBc/hv6e3hsARwntAdbpPQCI0DsG8QwdBA1tVQM4Kar9nEYtA2WIHQCH4yECFLahAqlTIPw5j8r8SO/i/5/keP54izEAwhhHAQY4Sv4hyIsFGPA1A0f0yv8MflkCD4wnBq+J9QClRh0BqevHAfkrfQAieHcDe4N/A1ZI7QPQR8cB9oKi+Q6elwHR2lMDNoafAD7ntwL7vtMBAqsHA0cLXwEwXK0Dol5w8B+/eQPOX8r9VhZPACuI2wCdYgsBOA1dAoEnGQPUqB8GkLstAlpgmwAMl3T1pdLc/oisRO6Nxkj/GetbATNCMQGgx0sAsze9Auh1rQLWXSz1LvBLBm6CVQPZq78CaHWdARjDnQM8+gMCFC8hA6bezwCYF7MD8zbtAYt/av+QgKL+IJrW/dw06wKfS5sBt+xFBuO7MQBK7PkDaACnBebYcwdSSqMCwy8a+L21MQK8ZDMEvXhFBaH6DwO0/u0CHTvLAX1D+wI/EGUCdE9TA/sqfwL31tkB1MgXB6QmUQOXIykCjnwxBH+UTwQHQH8HiJ+C/M5gTwTo4z8BJthvB6RP5v7myBMEauas/GO20wKE7mMCDZO1AGQMAwe4YHkDNWCXBpFzvQC97AMHHhY9AGJCwQKqpmcD+N6g/vncuwegWpEAohFvA1oz0wOzUmMCi7EXAWjhnwNLICEA0AjJAZwNPQPzkhr+/vIm/JBq1wEmS78AqxtxAhSTtQE4jAUEZIxnAoXEqwc0ivb+nqIRADxMnQFwraECwoXjA5yQbwbGAUb8t1AXB\",\"dtype\":\"float32\",\"shape\":[156]},\"y\":{\"__ndarray__\":\"YgpUQNUxZkBOVY5A7pqzQD+i1j+JKYS+0lYzv6dfjcB6Rog+xgfdvxiC0UAV553Auk4aQNmt7r+NMkS/EPxZwJWXBsH1csBA3MY4wKAtmsBX46c+SBpLQKufOUBS6JW//LfwPxL3ecDS0aVAfLYGQJlzDEBITRxAzJWOQMp9pUBjEYbA0UHewMtwtsBOa7LAMk2kPwuo2T7f3wXA+mzywKc2/D/l+0JAtkvTQFDQA8Hm3nlArI6oQHfJ/ED9WjdAB+xVQMSxcsBqXQBBJ1Ouv+IQg8BRhulAcR8QQYpc8j/n1q/At4ixP9A+w8DIuOA+2CWzQKQO7kDo4cdAVb9gwIAgrkBGmtG/ikYlwBw8l0A8TznAq2LOwKPvrUBbeyNAAwLqwCDXIb9W6bNAzvg+QFnzDr/vY7K/Wv7HQCwOlT+0YodAtenxPM0QZMCZpivAcibtQIpQAsHaAkE/U7+DQBm6Vr9vvz9A6lVUQGB2wb/av5XAatPAQFmtUUA2ZoW/iyeMQDRaoEBFPeXAL9M5QD65/D/W7I/A4Uguv0n4nMApv7a+wnQ8wPFahL4fmhLALYTCPyirF8DsnUzAtLNFwEgk20BcqCa/Xk6QP8Ws3sCUgqXAixLQwFvNKUB/M/Y/lhitwM8lwsBdf3c/A+Y+v0Wl/8DPU9a/yYH+v5JusEAxHePAhhofQC+G3MCxcBVBPfuewDDPDEF9X4VAP3eDP91k3cCQi47AWAuFP3PohUDII++/2MXuwFsY2D2GyajAQoSIwGJsA0Ad2BPAiU6YvpvtuUBj8x5AnpjFPI3uRUAgjwZBo9fCv0VZi8DmU5m/\",\"dtype\":\"float32\",\"shape\":[156]}},\"selected\":{\"id\":\"1541\",\"type\":\"Selection\"},\"selection_policy\":{\"id\":\"1540\",\"type\":\"UnionRenderers\"}},\"id\":\"1532\",\"type\":\"ColumnDataSource\"},{\"attributes\":{},\"id\":\"1541\",\"type\":\"Selection\"},{\"attributes\":{\"callback\":null},\"id\":\"1511\",\"type\":\"DataRange1d\"},{\"attributes\":{\"data_source\":{\"id\":\"1532\",\"type\":\"ColumnDataSource\"},\"glyph\":{\"id\":\"1534\",\"type\":\"Scatter\"},\"hover_glyph\":null,\"muted_glyph\":null,\"nonselection_glyph\":{\"id\":\"1535\",\"type\":\"Scatter\"},\"selection_glyph\":null,\"view\":{\"id\":\"1537\",\"type\":\"CDSView\"}},\"id\":\"1536\",\"type\":\"GlyphRenderer\"},{\"attributes\":{\"source\":{\"id\":\"1532\",\"type\":\"ColumnDataSource\"}},\"id\":\"1537\",\"type\":\"CDSView\"},{\"attributes\":{\"plot\":null,\"text\":\"A map of 5000 word vectors\"},\"id\":\"1506\",\"type\":\"Title\"},{\"attributes\":{\"fill_color\":{\"value\":\"#1f77b4\"},\"line_color\":{\"value\":\"#1f77b4\"},\"x\":{\"field\":\"x\"},\"y\":{\"field\":\"y\"}},\"id\":\"1534\",\"type\":\"Scatter\"}],\"root_ids\":[\"1507\"]},\"title\":\"Bokeh Application\",\"version\":\"1.0.1\"}};\n",
       "  var render_items = [{\"docid\":\"7fe69b04-359a-4a7d-bddc-a1895d0679bc\",\"roots\":{\"1507\":\"f3e93cbb-757d-4646-85d2-fa58b00bec63\"}}];\n",
       "  root.Bokeh.embed.embed_items_notebook(docs_json, render_items);\n",
       "\n",
       "  }\n",
       "  if (root.Bokeh !== undefined) {\n",
       "    embed_document(root);\n",
       "  } else {\n",
       "    var attempts = 0;\n",
       "    var timer = setInterval(function(root) {\n",
       "      if (root.Bokeh !== undefined) {\n",
       "        embed_document(root);\n",
       "        clearInterval(timer);\n",
       "      }\n",
       "      attempts++;\n",
       "      if (attempts > 100) {\n",
       "        console.log(\"Bokeh: ERROR: Unable to run BokehJS code because BokehJS library is missing\");\n",
       "        clearInterval(timer);\n",
       "      }\n",
       "    }, 10, root)\n",
       "  }\n",
       "})(window);"
      ],
      "application/vnd.bokehjs_exec.v0+json": ""
     },
     "metadata": {
      "application/vnd.bokehjs_exec.v0+json": {
       "id": "1507"
      }
     },
     "output_type": "display_data"
    }
   ],
   "source": [
    "plot_tSNE(W2Vmodel)"
   ]
  },
  {
   "cell_type": "markdown",
   "metadata": {
    "_uuid": "659d810e73f5d79ae920af5469b15cacb4053c13"
   },
   "source": [
    "## headline\n",
    "- ### CountVectorizer"
   ]
  },
  {
   "cell_type": "code",
   "execution_count": 43,
   "metadata": {
    "_uuid": "54726a302069842da9e9cf34f8a6c9f56e3d2d2c"
   },
   "outputs": [
    {
     "data": {
      "text/plain": [
       "[\"China's Daqing pumps 43.41 mln tonnes of oil in 06\",\n",
       " 'FEATURE-In kidnapping, finesse works best',\n",
       " 'PRESS DIGEST - Wall Street Journal - Jan 1',\n",
       " 'PRESS DIGEST - New York Times - Jan 1',\n",
       " 'PRESS DIGEST - New York Times - Jan 1']"
      ]
     },
     "execution_count": 43,
     "metadata": {},
     "output_type": "execute_result"
    }
   ],
   "source": [
    "list(news_train_df['headline'])[0:5]"
   ]
  },
  {
   "cell_type": "code",
   "execution_count": 44,
   "metadata": {
    "_kg_hide-input": true,
    "_uuid": "47cd89b0597fa05b6fdcb50ffe9462606b828598"
   },
   "outputs": [],
   "source": [
    "# CountVectorizer() env\n",
    "news_train_df['headline'] = news_train_df['headline'].replace(np.nan, '')\n",
    "news_train_df['headlineTag'] = news_train_df['headlineTag'].replace(np.nan, '')"
   ]
  },
  {
   "cell_type": "code",
   "execution_count": 45,
   "metadata": {
    "_uuid": "d593ac54f785219e075492d68a949446d516988c"
   },
   "outputs": [
    {
     "data": {
      "text/plain": [
       "CountVectorizer(analyzer='word', binary=False, decode_error='strict',\n",
       "        dtype=<class 'numpy.int64'>, encoding='utf-8', input='content',\n",
       "        lowercase=True, max_df=1.0, max_features=None, min_df=1,\n",
       "        ngram_range=(1, 1), preprocessor=None, stop_words=None,\n",
       "        strip_accents=None, token_pattern='(?u)\\\\b\\\\w\\\\w+\\\\b',\n",
       "        tokenizer=None, vocabulary=None)"
      ]
     },
     "execution_count": 45,
     "metadata": {},
     "output_type": "execute_result"
    }
   ],
   "source": [
    "vect = CountVectorizer()\n",
    "vect.fit(list(news_train_df['headline']))"
   ]
  },
  {
   "cell_type": "code",
   "execution_count": 46,
   "metadata": {
    "_uuid": "e4a0ee1b122967e87db6f6ce0856e21bf42a3622"
   },
   "outputs": [
    {
     "data": {
      "text/plain": [
       "[('china', 64050),\n",
       " ('daqing', 77366),\n",
       " ('pumps', 197555),\n",
       " ('43', 12794),\n",
       " ('41', 12524),\n",
       " ('mln', 163366),\n",
       " ('tonnes', 244147),\n",
       " ('of', 177429),\n",
       " ('oil', 178051),\n",
       " ('in', 128041)]"
      ]
     },
     "execution_count": 46,
     "metadata": {},
     "output_type": "execute_result"
    }
   ],
   "source": [
    "list((vect.vocabulary_).items())[0:10]"
   ]
  },
  {
   "cell_type": "code",
   "execution_count": 47,
   "metadata": {
    "_uuid": "761eb44fef9dfbc9f4b38df458a08a3e2aa56e71"
   },
   "outputs": [],
   "source": [
    "vect.vocabulary_ = sorted(vect.vocabulary_.items(), key=lambda x: x[1], reverse=True)"
   ]
  },
  {
   "cell_type": "code",
   "execution_count": 48,
   "metadata": {
    "_uuid": "575d456d1be56b52f48126859e6f3e32e0a15e2c"
   },
   "outputs": [
    {
     "data": {
      "text/plain": [
       "[('買収に伴う安全保障対策で米当局と合意', 270958),\n",
       " ('蓋特納稱有關有毒資產價值的不確定性限制了籌資能力', 270957),\n",
       " ('蓋特納稱所有合格的銀行都能申請政府的可轉換優先股', 270956),\n",
       " ('子会社セルヴェーション', 270955),\n",
       " ('外傷性脳損傷の新たな治療法を開発するため', 270954),\n",
       " ('並非只有最大的19家銀行才可以', 270953),\n",
       " ('フォートレス', 270952),\n",
       " ('バイオテック', 270951),\n",
       " ('ソフトバンク', 270950),\n",
       " ('インクを新設', 270949)]"
      ]
     },
     "execution_count": 48,
     "metadata": {},
     "output_type": "execute_result"
    }
   ],
   "source": [
    "(vect.vocabulary_)[0:10]"
   ]
  },
  {
   "cell_type": "markdown",
   "metadata": {
    "_uuid": "0faa787bd0f3179ff3c786ec647c36c16b245413"
   },
   "source": [
    "- ### n-gram"
   ]
  },
  {
   "cell_type": "code",
   "execution_count": 49,
   "metadata": {
    "_uuid": "d10450e88f059e84a822b64244020d58e6b76660"
   },
   "outputs": [
    {
     "data": {
      "text/plain": [
       "CountVectorizer(analyzer='word', binary=False, decode_error='strict',\n",
       "        dtype=<class 'numpy.int64'>, encoding='utf-8', input='content',\n",
       "        lowercase=True, max_df=1.0, max_features=None, min_df=1,\n",
       "        ngram_range=(2, 2), preprocessor=None, stop_words=None,\n",
       "        strip_accents=None, token_pattern='(?u)\\\\b\\\\w\\\\w+\\\\b',\n",
       "        tokenizer=None, vocabulary=None)"
      ]
     },
     "execution_count": 49,
     "metadata": {},
     "output_type": "execute_result"
    }
   ],
   "source": [
    "vect1 = CountVectorizer(ngram_range=(2, 2))\n",
    "vect1.fit(list(news_train_df['headline']))"
   ]
  },
  {
   "cell_type": "code",
   "execution_count": 50,
   "metadata": {
    "_uuid": "f76c5ad433ca8a4e5c9030bd6af06257033634c1"
   },
   "outputs": [
    {
     "data": {
      "text/plain": [
       "[('china daqing', 1433155),\n",
       " ('daqing pumps', 1821257),\n",
       " ('pumps 43', 4768150),\n",
       " ('43 41', 233067),\n",
       " ('41 mln', 230054),\n",
       " ('mln tonnes', 3876956),\n",
       " ('tonnes of', 6014760),\n",
       " ('of oil', 4190218),\n",
       " ('oil in', 4241530),\n",
       " ('in 06', 3057292)]"
      ]
     },
     "execution_count": 50,
     "metadata": {},
     "output_type": "execute_result"
    }
   ],
   "source": [
    "list((vect1.vocabulary_).items())[0:10]"
   ]
  },
  {
   "cell_type": "code",
   "execution_count": 51,
   "metadata": {
    "_uuid": "f895203218a03e8d3f5e66cb5c3a51d4b21a96b9"
   },
   "outputs": [],
   "source": [
    "vect1.vocabulary_ = sorted(vect1.vocabulary_.items(), key=lambda x: x[1], reverse=True)"
   ]
  },
  {
   "cell_type": "code",
   "execution_count": 52,
   "metadata": {
    "_uuid": "5519d1a09ba3272dc9aef9b11d060f3048f03ec1"
   },
   "outputs": [
    {
     "data": {
      "text/plain": [
       "[('蓋特納稱所有合格的銀行都能申請政府的可轉換優先股 並非只有最大的19家銀行才可以', 6575451),\n",
       " ('子会社セルヴェーション インクを新設', 6575450),\n",
       " ('外傷性脳損傷の新たな治療法を開発するため 子会社セルヴェーション', 6575449),\n",
       " ('フォートレス バイオテック', 6575448),\n",
       " ('バイオテック 外傷性脳損傷の新たな治療法を開発するため', 6575447),\n",
       " ('ソフトバンク 9984', 6575446),\n",
       " ('インクを新設 fbio', 6575445),\n",
       " ('と米スプリント 買収に伴う安全保障対策で米当局と合意', 6575444),\n",
       " ('чистая прибыль', 6575443),\n",
       " ('тнк bp', 6575442)]"
      ]
     },
     "execution_count": 52,
     "metadata": {},
     "output_type": "execute_result"
    }
   ],
   "source": [
    "(vect1.vocabulary_)[0:10]"
   ]
  },
  {
   "cell_type": "code",
   "execution_count": null,
   "metadata": {
    "_uuid": "106ddfb0449c890bca3f269b8048e50245c6d575"
   },
   "outputs": [],
   "source": []
  },
  {
   "cell_type": "code",
   "execution_count": null,
   "metadata": {},
   "outputs": [],
   "source": []
  }
 ],
 "metadata": {
  "kernelspec": {
   "display_name": "Python 3",
   "language": "python",
   "name": "python3"
  },
  "language_info": {
   "codemirror_mode": {
    "name": "ipython",
    "version": 3
   },
   "file_extension": ".py",
   "mimetype": "text/x-python",
   "name": "python",
   "nbconvert_exporter": "python",
   "pygments_lexer": "ipython3",
   "version": "3.7.0"
  }
 },
 "nbformat": 4,
 "nbformat_minor": 1
}
